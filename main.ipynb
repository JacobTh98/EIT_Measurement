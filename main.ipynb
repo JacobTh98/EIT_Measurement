{
 "cells": [
  {
   "cell_type": "code",
   "execution_count": 2,
   "metadata": {},
   "outputs": [],
   "source": [
    "import functions as fc\n",
    "import numpy as np\n",
    "import matplotlib.pyplot as plt\n",
    "import pandas as pd\n",
    "import cv2 as cv"
   ]
  },
  {
   "cell_type": "code",
   "execution_count": 2,
   "metadata": {},
   "outputs": [],
   "source": [
    "A = fc.record_data(10)"
   ]
  },
  {
   "cell_type": "code",
   "execution_count": 9,
   "metadata": {},
   "outputs": [
    {
     "data": {
      "text/plain": [
       "<StemContainer object of 3 artists>"
      ]
     },
     "execution_count": 9,
     "metadata": {},
     "output_type": "execute_result"
    },
    {
     "data": {
      "image/png": "[encoded data removed]",
      "text/plain": [
       "<Figure size 432x288 with 1 Axes>"
      ]
     },
     "metadata": {
      "needs_background": "light"
     },
     "output_type": "display_data"
    }
   ],
   "source": [
    "plt.stem(fc.mean_data(A))"
   ]
  },
  {
   "cell_type": "code",
   "execution_count": 5,
   "metadata": {},
   "outputs": [
    {
     "data": {
      "text/plain": [
       "\u001b[0;31mSignature:\u001b[0m \u001b[0mfc\u001b[0m\u001b[0;34m.\u001b[0m\u001b[0mexport_xlsx\u001b[0m\u001b[0;34m(\u001b[0m\u001b[0mA\u001b[0m\u001b[0;34m,\u001b[0m \u001b[0mname\u001b[0m\u001b[0;34m=\u001b[0m\u001b[0;34m'undefined'\u001b[0m\u001b[0;34m,\u001b[0m \u001b[0mtranspose\u001b[0m\u001b[0;34m=\u001b[0m\u001b[0;32mFalse\u001b[0m\u001b[0;34m)\u001b[0m\u001b[0;34m\u001b[0m\u001b[0;34m\u001b[0m\u001b[0m\n",
       "\u001b[0;31mDocstring:\u001b[0m Exportieren der messdaten als Excel-Tebelle\n",
       "\u001b[0;31mFile:\u001b[0m      ~/Desktop/Masterprojekt/JupLab_measurement/functions.py\n",
       "\u001b[0;31mType:\u001b[0m      function\n"
      ]
     },
     "metadata": {},
     "output_type": "display_data"
    }
   ],
   "source": [
    "fc.export_xlsx?"
   ]
  },
  {
   "cell_type": "code",
   "execution_count": 15,
   "metadata": {},
   "outputs": [
    {
     "data": {
      "text/plain": [
       "\u001b[0;31mDocstring:\u001b[0m\n",
       "circle(img, center, radius, color[, thickness[, lineType[, shift]]]) -> img\n",
       ".   @brief Draws a circle.\n",
       ".   \n",
       ".   The function cv::circle draws a simple or filled circle with a given center and radius.\n",
       ".   @param img Image where the circle is drawn.\n",
       ".   @param center Center of the circle.\n",
       ".   @param radius Radius of the circle.\n",
       ".   @param color Circle color.\n",
       ".   @param thickness Thickness of the circle outline, if positive. Negative values, like #FILLED,\n",
       ".   mean that a filled circle is to be drawn.\n",
       ".   @param lineType Type of the circle boundary. See #LineTypes\n",
       ".   @param shift Number of fractional bits in the coordinates of the center and in the radius value.\n",
       "\u001b[0;31mType:\u001b[0m      builtin_function_or_method\n"
      ]
     },
     "metadata": {},
     "output_type": "display_data"
    }
   ],
   "source": [
    "cv.circle?"
   ]
  },
  {
   "cell_type": "code",
   "execution_count": 69,
   "metadata": {},
   "outputs": [
    {
     "data": {
      "text/plain": [
       "array([[0., 0., 0., ..., 0., 0., 0.],\n",
       "       [0., 0., 0., ..., 0., 0., 0.],\n",
       "       [0., 0., 0., ..., 0., 0., 0.],\n",
       "       ...,\n",
       "       [0., 0., 0., ..., 0., 0., 0.],\n",
       "       [0., 0., 0., ..., 0., 0., 0.],\n",
       "       [0., 0., 0., ..., 0., 0., 0.]])"
      ]
     },
     "execution_count": 69,
     "metadata": {},
     "output_type": "execute_result"
    }
   ],
   "source": [
    "IMG=np.zeros((1000,1000))\n",
    "cv.circle(IMG,(500,500),500,(255,255,0),1)\n",
    "cv.circle(IMG,(750,500),100,(255,255,0),-1)"
   ]
  },
  {
   "cell_type": "code",
   "execution_count": 72,
   "metadata": {},
   "outputs": [
    {
     "data": {
      "image/png": "[encoded data removed]",
      "text/plain": [
       "<Figure size 432x288 with 1 Axes>"
      ]
     },
     "metadata": {
      "needs_background": "light"
     },
     "output_type": "display_data"
    }
   ],
   "source": [
    "plt.imshow(IMG,cmap='viridis')\n",
    "plt.show()"
   ]
  },
  {
   "cell_type": "code",
   "execution_count": 71,
   "metadata": {},
   "outputs": [
    {
     "data": {
      "text/plain": [
       "\u001b[0;31mDocstring:\u001b[0m\n",
       "rectangle(img, pt1, pt2, color[, thickness[, lineType[, shift]]]) -> img\n",
       ".   @brief Draws a simple, thick, or filled up-right rectangle.\n",
       ".   \n",
       ".   The function cv::rectangle draws a rectangle outline or a filled rectangle whose two opposite corners\n",
       ".   are pt1 and pt2.\n",
       ".   \n",
       ".   @param img Image.\n",
       ".   @param pt1 Vertex of the rectangle.\n",
       ".   @param pt2 Vertex of the rectangle opposite to pt1 .\n",
       ".   @param color Rectangle color or brightness (grayscale image).\n",
       ".   @param thickness Thickness of lines that make up the rectangle. Negative values, like #FILLED,\n",
       ".   mean that the function has to draw a filled rectangle.\n",
       ".   @param lineType Type of the line. See #LineTypes\n",
       ".   @param shift Number of fractional bits in the point coordinates.\n",
       "\n",
       "\n",
       "\n",
       "rectangle(img, rec, color[, thickness[, lineType[, shift]]]) -> img\n",
       ".   @overload\n",
       ".   \n",
       ".   use `rec` parameter as alternative specification of the drawn rectangle: `r.tl() and\n",
       ".   r.br()-Point(1,1)` are opposite corners\n",
       "\u001b[0;31mType:\u001b[0m      builtin_function_or_method\n"
      ]
     },
     "metadata": {},
     "output_type": "display_data"
    }
   ],
   "source": [
    "cv.rectangle?"
   ]
  },
  {
   "cell_type": "code",
   "execution_count": null,
   "metadata": {},
   "outputs": [],
   "source": []
  }
 ],
 "metadata": {
  "kernelspec": {
   "display_name": "Python 3",
   "language": "python",
   "name": "python3"
  },
  "language_info": {
   "codemirror_mode": {
    "name": "ipython",
    "version": 3
   },
   "file_extension": ".py",
   "mimetype": "text/x-python",
   "name": "python",
   "nbconvert_exporter": "python",
   "pygments_lexer": "ipython3",
   "version": "3.8.5"
  }
 },
 "nbformat": 4,
 "nbformat_minor": 4
}

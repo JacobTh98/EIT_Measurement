{
 "cells": [
  {
   "cell_type": "code",
   "execution_count": 1,
   "metadata": {},
   "outputs": [],
   "source": [
    "import lobi as lb\n",
    "import numpy as np\n",
    "import matplotlib.pyplot as plt\n",
    "import pandas as pd\n",
    "import cv2 as cv\n",
    "import os\n",
    "import serial\n",
    "from tqdm import tqdm\n",
    "import schunk"
   ]
  },
  {
   "cell_type": "markdown",
   "metadata": {
    "tags": []
   },
   "source": [
    "### Git pull?\n",
    "- Start auf Windows: python -m jupyterlab"
   ]
  },
  {
   "cell_type": "markdown",
   "metadata": {
    "tags": []
   },
   "source": [
    "## Messung\n",
    "    - Ordner erstellen mit Name der Messung"
   ]
  },
  {
   "cell_type": "code",
   "execution_count": 2,
   "metadata": {},
   "outputs": [],
   "source": [
    "def messduration(GRAD,Anzhal):\n",
    "    \n",
    "    return res"
   ]
  },
  {
   "cell_type": "code",
   "execution_count": 3,
   "metadata": {},
   "outputs": [],
   "source": [
    "#Globale Angaben einer Messreihe\n",
    "Name       = 'Quader_mittig_0_0'\n",
    "Messung    = 'Quader_mittig'\n",
    "Elektroden = 32\n",
    "SchunkStep = 5 #[grad/Schritt]\n",
    "Modus      = 'e'\n",
    "Objekt     = 'Quader'\n",
    "Anzahl     = 50 #Anzahl der aufgenommenen Messwerte"
   ]
  },
  {
   "cell_type": "code",
   "execution_count": 4,
   "metadata": {},
   "outputs": [
    {
     "data": {
      "text/plain": [
       "array([  0,   5,  10,  15,  20,  25,  30,  35,  40,  45,  50,  55,  60,\n",
       "        65,  70,  75,  80,  85,  90,  95, 100, 105, 110, 115, 120, 125,\n",
       "       130, 135, 140, 145, 150, 155, 160, 165, 170, 175, 180, 185, 190,\n",
       "       195, 200, 205, 210, 215, 220, 225, 230, 235, 240, 245, 250, 255,\n",
       "       260, 265, 270, 275, 280, 285, 290, 295, 300, 305, 310, 315, 320,\n",
       "       325, 330, 335, 340, 345, 350, 355, 360])"
      ]
     },
     "execution_count": 4,
     "metadata": {},
     "output_type": "execute_result"
    }
   ],
   "source": [
    "#Sicherhaltshalber mehr Messungen\n",
    "Anzahl +=0\n",
    "#SchrittArray für Schunk Drehteller:\n",
    "GRAD = np.arange(0,361,SchunkStep)\n",
    "GRAD"
   ]
  },
  {
   "cell_type": "code",
   "execution_count": 18,
   "metadata": {},
   "outputs": [
    {
     "name": "stdout",
     "output_type": "stream",
     "text": [
      "Ordner mit dem Namen:\" Quader_mittig \" wurde erstellt.\n"
     ]
    }
   ],
   "source": [
    "lb.gen_env(Messung,Elektroden,Modus,SchunkStep)"
   ]
  },
  {
   "cell_type": "markdown",
   "metadata": {},
   "source": [
    "## Herstellen Verbindung Schunk"
   ]
  },
  {
   "cell_type": "code",
   "execution_count": 2,
   "metadata": {},
   "outputs": [],
   "source": [
    "mod = schunk.Module(schunk.SerialConnection(0x0B, serial.Serial, port='COM3', baudrate=9600, timeout=1))"
   ]
  },
  {
   "cell_type": "markdown",
   "metadata": {},
   "source": [
    "### Herstellen der Verbindung zum Spectra EIT-Kit"
   ]
  },
  {
   "cell_type": "code",
   "execution_count": 6,
   "metadata": {},
   "outputs": [
    {
     "name": "stdout",
     "output_type": "stream",
     "text": [
      "Verbindung zu: COM4 erfolgreich hergestellt.\n"
     ]
    }
   ],
   "source": [
    "#serialPort = lb.init(\"COM7\")\n",
    "serialPort = lb.init(\"COM4\")"
   ]
  },
  {
   "cell_type": "markdown",
   "metadata": {},
   "source": [
    "### Ground truth"
   ]
  },
  {
   "cell_type": "markdown",
   "metadata": {},
   "source": [
    "## Testen Schunk"
   ]
  },
  {
   "cell_type": "code",
   "execution_count": 23,
   "metadata": {},
   "outputs": [
    {
     "name": "stdout",
     "output_type": "stream",
     "text": [
      "0\n",
      "90\n",
      "180\n",
      "270\n",
      "360\n"
     ]
    },
    {
     "data": {
      "text/plain": [
       "24.256122589111328"
      ]
     },
     "execution_count": 23,
     "metadata": {},
     "output_type": "execute_result"
    }
   ],
   "source": [
    "angles=np.arange(0,361,90) #(0,361,90)\n",
    "angles\n",
    "for angle in angles:\n",
    "    mod.move_pos(angle)\n",
    "    mod.wait_until_position_reached()\n",
    "    print(angle)\n",
    "mod.move_pos(0)"
   ]
  },
  {
   "cell_type": "code",
   "execution_count": 3,
   "metadata": {},
   "outputs": [
    {
     "data": {
      "text/plain": [
       "2.922583818435669"
      ]
     },
     "execution_count": 3,
     "metadata": {},
     "output_type": "execute_result"
    }
   ],
   "source": [
    "mod.move_pos(0)"
   ]
  },
  {
   "cell_type": "code",
   "execution_count": 24,
   "metadata": {},
   "outputs": [
    {
     "name": "stdout",
     "output_type": "stream",
     "text": [
      "Bild gespeichert\n"
     ]
    },
    {
     "data": {
      "text/plain": [
       "<matplotlib.image.AxesImage at 0x1f8f2357b20>"
      ]
     },
     "execution_count": 24,
     "metadata": {},
     "output_type": "execute_result"
    },
    {
     "data": {
      "image/png": "[encoded data removed]",
      "text/plain": [
       "<Figure size 432x288 with 1 Axes>"
      ]
     },
     "metadata": {
      "needs_background": "light"
     },
     "output_type": "display_data"
    }
   ],
   "source": [
    "img1 = lb.ground_truth(['rectangle'],[0],[0*np.pi/2], Messung ,save_img=True)\n",
    "plt.grid()\n",
    "plt.imshow(img1,cmap='viridis')"
   ]
  },
  {
   "cell_type": "markdown",
   "metadata": {},
   "source": [
    "## Mittelwert ohne Probe aufnehmen\n",
    "- Beachten, dass keine Probe in der Messumgebung ist"
   ]
  },
  {
   "cell_type": "code",
   "execution_count": 9,
   "metadata": {},
   "outputs": [
    {
     "name": "stdout",
     "output_type": "stream",
     "text": [
      "Messung des Mittelwertbildes\n",
      "Vorgang:  1 von:  20\n",
      "Vorgang:  2 von:  20\n",
      "Vorgang:  2 von:  20\n",
      "Vorgang:  3 von:  20\n",
      "Vorgang:  4 von:  20\n",
      "Vorgang:  5 von:  20\n",
      "Vorgang:  6 von:  20\n",
      "Vorgang:  7 von:  20\n",
      "Vorgang:  8 von:  20\n",
      "Vorgang:  9 von:  20\n",
      "Vorgang:  10 von:  20\n",
      "Vorgang:  11 von:  20\n",
      "Vorgang:  12 von:  20\n",
      "Vorgang:  13 von:  20\n",
      "Vorgang:  14 von:  20\n",
      "Vorgang:  15 von:  20\n",
      "Vorgang:  16 von:  20\n",
      "Vorgang:  17 von:  20\n",
      "Vorgang:  18 von:  20\n",
      "Vorgang:  19 von:  20\n",
      "Vorgang:  20 von:  20\n"
     ]
    }
   ],
   "source": [
    "Mean = []\n",
    "Anzahl_mean = 20\n",
    "try:\n",
    "    print('Messung des Mittelwertbildes')    \n",
    "    Mean = lb.measure_data(Anzahl_mean,serialPort)\n",
    "except:\n",
    "    Mean = []\n",
    "    print('Bitte erneut ausführen')\n",
    "Mean = np.mean(Mean,0)"
   ]
  },
  {
   "cell_type": "code",
   "execution_count": 10,
   "metadata": {},
   "outputs": [],
   "source": [
    "# Mittelwert speichern?\n",
    "np.save(str(Messung)+'/'+'Mean_empty_ground', Mean)"
   ]
  },
  {
   "cell_type": "code",
   "execution_count": 8,
   "metadata": {},
   "outputs": [],
   "source": [
    "Mean = np.load('Zylinder_mittig/Mean_empty_ground.npy')"
   ]
  },
  {
   "cell_type": "markdown",
   "metadata": {},
   "source": [
    "### Messung für `Anzahl` an Werten starten\n",
    "- `GRAD` ... Winkelschritte in °.\n",
    "- `grad` ... wird auf den aktuellen Drehwinkel des Drehtellers gesetzt.\n",
    "- Wenn die `Data` leer ist, wird die Iteration von `grad` neu gestartet.\n",
    "- `try` wird zur verhinderung von nicht vollständigen Messungen verwendet."
   ]
  },
  {
   "cell_type": "code",
   "execution_count": 9,
   "metadata": {},
   "outputs": [
    {
     "data": {
      "text/plain": [
       "array([  5,  10,  15,  20,  25,  30,  35,  40,  45,  50,  55,  60,  65,\n",
       "        70,  75,  80,  85,  90,  95, 100, 105, 110, 115, 120, 125, 130,\n",
       "       135, 140, 145, 150, 155, 160, 165, 170, 175, 180, 185, 190, 195,\n",
       "       200, 205, 210, 215, 220, 225, 230, 235, 240, 245, 250, 255, 260,\n",
       "       265, 270, 275, 280, 285, 290, 295, 300, 305, 310, 315, 320, 325,\n",
       "       330, 335, 340, 345, 350, 355, 360])"
      ]
     },
     "execution_count": 9,
     "metadata": {},
     "output_type": "execute_result"
    }
   ],
   "source": [
    "#temp\n",
    "GRAD = GRAD[1:]\n",
    "GRAD"
   ]
  },
  {
   "cell_type": "code",
   "execution_count": null,
   "metadata": {},
   "outputs": [
    {
     "name": "stderr",
     "output_type": "stream",
     "text": [
      "  0%|                                                                                           | 0/72 [00:00<?, ?it/s]"
     ]
    },
    {
     "name": "stdout",
     "output_type": "stream",
     "text": [
      "Fortschritt der Winkelschritte:\n",
      "Messung des 5° Schritt\n",
      "Vorgang:  1 von:  50\n",
      "Neustart. Daten sind nicht vollständig...\n",
      "Messung des 5° Schritt\n",
      "Vorgang:  1 von:  50\n",
      "Vorgang:  1 von:  50\n",
      "Vorgang:  2 von:  50\n",
      "Vorgang:  3 von:  50\n",
      "Vorgang:  4 von:  50\n",
      "Vorgang:  5 von:  50\n",
      "Vorgang:  6 von:  50\n",
      "Vorgang:  7 von:  50\n",
      "Vorgang:  8 von:  50\n",
      "Vorgang:  9 von:  50\n",
      "Vorgang:  10 von:  50\n",
      "Vorgang:  11 von:  50\n",
      "Vorgang:  12 von:  50\n",
      "Vorgang:  13 von:  50\n",
      "Vorgang:  14 von:  50\n",
      "Vorgang:  15 von:  50\n",
      "Vorgang:  16 von:  50\n",
      "Vorgang:  17 von:  50\n",
      "Vorgang:  18 von:  50\n",
      "Vorgang:  19 von:  50\n",
      "Vorgang:  20 von:  50\n",
      "Vorgang:  21 von:  50\n",
      "Vorgang:  22 von:  50\n",
      "Vorgang:  23 von:  50\n",
      "Vorgang:  24 von:  50\n",
      "Vorgang:  25 von:  50\n",
      "Vorgang:  26 von:  50\n",
      "Vorgang:  27 von:  50\n",
      "Vorgang:  28 von:  50\n",
      "Vorgang:  29 von:  50\n",
      "Vorgang:  30 von:  50\n",
      "Vorgang:  31 von:  50\n",
      "Vorgang:  32 von:  50\n",
      "Vorgang:  33 von:  50\n",
      "Vorgang:  34 von:  50\n",
      "Vorgang:  35 von:  50\n",
      "Vorgang:  36 von:  50\n",
      "Vorgang:  37 von:  50\n",
      "Vorgang:  38 von:  50\n",
      "Vorgang:  39 von:  50\n",
      "Vorgang:  40 von:  50\n",
      "Vorgang:  41 von:  50\n",
      "Vorgang:  42 von:  50\n",
      "Vorgang:  43 von:  50\n",
      "Vorgang:  44 von:  50\n",
      "Vorgang:  45 von:  50\n",
      "Vorgang:  46 von:  50\n",
      "Vorgang:  47 von:  50\n",
      "Vorgang:  48 von:  50\n",
      "Vorgang:  49 von:  50\n",
      "Vorgang:  50 von:  50\n",
      "Messung 5 erfolgreich exportiert\n",
      "Messung des 10° Schritt\n",
      "Vorgang:  1 von:  50\n",
      "Vorgang:  2 von:  50\n",
      "Vorgang:  3 von:  50\n",
      "Vorgang:  4 von:  50\n",
      "Vorgang:  5 von:  50\n",
      "Vorgang:  6 von:  50\n",
      "Vorgang:  7 von:  50\n",
      "Vorgang:  8 von:  50\n",
      "Vorgang:  9 von:  50\n",
      "Vorgang:  10 von:  50\n",
      "Vorgang:  11 von:  50\n",
      "Vorgang:  12 von:  50\n",
      "Vorgang:  13 von:  50\n",
      "Vorgang:  14 von:  50\n",
      "Vorgang:  15 von:  50\n",
      "Vorgang:  16 von:  50\n",
      "Vorgang:  17 von:  50\n",
      "Vorgang:  18 von:  50\n",
      "Vorgang:  19 von:  50\n",
      "Vorgang:  20 von:  50\n",
      "Vorgang:  21 von:  50\n",
      "Vorgang:  22 von:  50\n",
      "Vorgang:  23 von:  50\n",
      "Vorgang:  24 von:  50\n",
      "Vorgang:  25 von:  50\n",
      "Vorgang:  26 von:  50\n",
      "Vorgang:  27 von:  50\n",
      "Vorgang:  28 von:  50\n",
      "Vorgang:  29 von:  50\n",
      "Vorgang:  30 von:  50\n",
      "Vorgang:  31 von:  50\n",
      "Vorgang:  32 von:  50\n",
      "Vorgang:  33 von:  50\n",
      "Vorgang:  34 von:  50\n",
      "Vorgang:  35 von:  50\n",
      "Vorgang:  36 von:  50\n",
      "Vorgang:  37 von:  50\n",
      "Vorgang:  38 von:  50\n",
      "Vorgang:  39 von:  50\n",
      "Vorgang:  40 von:  50\n",
      "Vorgang:  41 von:  50\n",
      "Vorgang:  42 von:  50\n",
      "Vorgang:  43 von:  50\n",
      "Vorgang:  44 von:  50\n",
      "Vorgang:  45 von:  50\n",
      "Vorgang:  46 von:  50\n",
      "Vorgang:  47 von:  50\n",
      "Vorgang:  48 von:  50\n",
      "Vorgang:  49 von:  50\n",
      "Vorgang:  50 von:  50\n",
      "Messung 10 erfolgreich exportiert\n",
      "Messung des 15° Schritt\n",
      "Vorgang:  1 von:  50\n",
      "Vorgang:  2 von:  50\n",
      "Vorgang:  3 von:  50\n",
      "Vorgang:  4 von:  50\n",
      "Vorgang:  5 von:  50\n",
      "Vorgang:  6 von:  50\n",
      "Vorgang:  7 von:  50\n",
      "Vorgang:  8 von:  50\n",
      "Vorgang:  9 von:  50\n",
      "Vorgang:  10 von:  50\n",
      "Vorgang:  11 von:  50\n",
      "Vorgang:  12 von:  50\n",
      "Vorgang:  13 von:  50\n",
      "Vorgang:  14 von:  50\n",
      "Vorgang:  15 von:  50\n",
      "Vorgang:  16 von:  50\n",
      "Vorgang:  17 von:  50\n",
      "Vorgang:  18 von:  50\n",
      "Vorgang:  19 von:  50\n",
      "Vorgang:  20 von:  50\n",
      "Vorgang:  21 von:  50\n",
      "Vorgang:  22 von:  50\n",
      "Vorgang:  23 von:  50\n",
      "Vorgang:  24 von:  50\n",
      "Vorgang:  25 von:  50\n",
      "Vorgang:  26 von:  50\n",
      "Vorgang:  27 von:  50\n",
      "Vorgang:  28 von:  50\n",
      "Vorgang:  29 von:  50\n",
      "Vorgang:  30 von:  50\n",
      "Vorgang:  31 von:  50\n",
      "Vorgang:  32 von:  50\n",
      "Vorgang:  33 von:  50\n",
      "Vorgang:  34 von:  50\n",
      "Vorgang:  35 von:  50\n",
      "Vorgang:  36 von:  50\n",
      "Vorgang:  37 von:  50\n",
      "Vorgang:  38 von:  50\n",
      "Vorgang:  39 von:  50\n",
      "Vorgang:  40 von:  50\n",
      "Vorgang:  41 von:  50\n",
      "Vorgang:  42 von:  50\n",
      "Vorgang:  43 von:  50\n",
      "Vorgang:  44 von:  50\n",
      "Vorgang:  45 von:  50\n",
      "Vorgang:  46 von:  50\n",
      "Vorgang:  47 von:  50\n",
      "Vorgang:  48 von:  50\n",
      "Vorgang:  49 von:  50\n",
      "Vorgang:  50 von:  50\n",
      "Messung 15 erfolgreich exportiert\n",
      "Messung des 20° Schritt\n",
      "Vorgang:  1 von:  50\n",
      "Vorgang:  2 von:  50\n",
      "Vorgang:  3 von:  50\n",
      "Vorgang:  4 von:  50\n",
      "Vorgang:  5 von:  50\n",
      "Vorgang:  6 von:  50\n",
      "Vorgang:  7 von:  50\n",
      "Vorgang:  8 von:  50\n",
      "Vorgang:  9 von:  50\n",
      "Vorgang:  10 von:  50\n",
      "Vorgang:  11 von:  50\n",
      "Vorgang:  12 von:  50\n",
      "Vorgang:  13 von:  50\n",
      "Vorgang:  14 von:  50\n",
      "Vorgang:  15 von:  50\n",
      "Vorgang:  16 von:  50\n",
      "Vorgang:  17 von:  50\n",
      "Vorgang:  18 von:  50\n",
      "Vorgang:  19 von:  50\n",
      "Vorgang:  20 von:  50\n",
      "Vorgang:  21 von:  50\n",
      "Vorgang:  22 von:  50\n",
      "Vorgang:  23 von:  50\n",
      "Vorgang:  24 von:  50\n",
      "Vorgang:  25 von:  50\n",
      "Vorgang:  26 von:  50\n",
      "Vorgang:  27 von:  50\n",
      "Vorgang:  28 von:  50\n",
      "Vorgang:  29 von:  50\n",
      "Vorgang:  30 von:  50\n",
      "Vorgang:  31 von:  50\n",
      "Vorgang:  32 von:  50\n",
      "Vorgang:  33 von:  50\n",
      "Vorgang:  34 von:  50\n",
      "Vorgang:  35 von:  50\n",
      "Vorgang:  36 von:  50\n",
      "Vorgang:  37 von:  50\n",
      "Vorgang:  38 von:  50\n",
      "Vorgang:  39 von:  50\n",
      "Vorgang:  40 von:  50\n",
      "Vorgang:  41 von:  50\n",
      "Vorgang:  42 von:  50\n",
      "Vorgang:  43 von:  50\n",
      "Vorgang:  44 von:  50\n",
      "Vorgang:  45 von:  50\n",
      "Vorgang:  46 von:  50\n",
      "Vorgang:  47 von:  50\n",
      "Vorgang:  48 von:  50\n",
      "Vorgang:  49 von:  50\n",
      "Vorgang:  50 von:  50\n",
      "Messung 20 erfolgreich exportiert\n",
      "Messung des 25° Schritt\n",
      "Vorgang:  1 von:  50\n",
      "Vorgang:  2 von:  50\n",
      "Vorgang:  3 von:  50\n",
      "Vorgang:  4 von:  50\n",
      "Vorgang:  5 von:  50\n",
      "Vorgang:  6 von:  50\n",
      "Vorgang:  7 von:  50\n",
      "Vorgang:  8 von:  50\n",
      "Vorgang:  9 von:  50\n",
      "Vorgang:  10 von:  50\n",
      "Vorgang:  11 von:  50\n",
      "Vorgang:  12 von:  50\n",
      "Vorgang:  13 von:  50\n",
      "Vorgang:  14 von:  50\n",
      "Vorgang:  15 von:  50\n",
      "Vorgang:  16 von:  50\n",
      "Vorgang:  17 von:  50\n",
      "Vorgang:  18 von:  50\n",
      "Vorgang:  19 von:  50\n",
      "Vorgang:  20 von:  50\n",
      "Vorgang:  21 von:  50\n",
      "Vorgang:  22 von:  50\n",
      "Vorgang:  23 von:  50\n",
      "Vorgang:  24 von:  50\n",
      "Vorgang:  25 von:  50\n",
      "Vorgang:  26 von:  50\n",
      "Vorgang:  27 von:  50\n",
      "Vorgang:  28 von:  50\n",
      "Vorgang:  29 von:  50\n",
      "Vorgang:  30 von:  50\n",
      "Vorgang:  31 von:  50\n",
      "Vorgang:  32 von:  50\n",
      "Vorgang:  33 von:  50\n",
      "Vorgang:  34 von:  50\n",
      "Vorgang:  35 von:  50\n",
      "Vorgang:  36 von:  50\n",
      "Vorgang:  37 von:  50\n",
      "Vorgang:  38 von:  50\n",
      "Vorgang:  39 von:  50\n",
      "Vorgang:  40 von:  50\n",
      "Vorgang:  41 von:  50\n",
      "Vorgang:  42 von:  50\n",
      "Vorgang:  43 von:  50\n",
      "Vorgang:  44 von:  50\n",
      "Vorgang:  45 von:  50\n",
      "Vorgang:  46 von:  50\n",
      "Vorgang:  47 von:  50\n",
      "Vorgang:  48 von:  50\n",
      "Vorgang:  49 von:  50\n",
      "Vorgang:  50 von:  50\n",
      "Messung 25 erfolgreich exportiert\n",
      "Messung des 30° Schritt\n",
      "Vorgang:  1 von:  50\n",
      "Vorgang:  2 von:  50\n",
      "Vorgang:  3 von:  50\n",
      "Vorgang:  4 von:  50\n",
      "Vorgang:  5 von:  50\n",
      "Vorgang:  6 von:  50\n",
      "Vorgang:  7 von:  50\n",
      "Vorgang:  8 von:  50\n",
      "Vorgang:  9 von:  50\n",
      "Vorgang:  10 von:  50\n",
      "Vorgang:  11 von:  50\n",
      "Vorgang:  12 von:  50\n",
      "Vorgang:  13 von:  50\n",
      "Vorgang:  14 von:  50\n",
      "Vorgang:  15 von:  50\n",
      "Vorgang:  16 von:  50\n",
      "Vorgang:  17 von:  50\n",
      "Vorgang:  18 von:  50\n",
      "Vorgang:  19 von:  50\n",
      "Vorgang:  20 von:  50\n",
      "Vorgang:  21 von:  50\n",
      "Vorgang:  22 von:  50\n",
      "Vorgang:  23 von:  50\n",
      "Vorgang:  24 von:  50\n",
      "Vorgang:  25 von:  50\n",
      "Vorgang:  26 von:  50\n",
      "Vorgang:  27 von:  50\n",
      "Vorgang:  28 von:  50\n",
      "Vorgang:  29 von:  50\n",
      "Vorgang:  30 von:  50\n",
      "Vorgang:  31 von:  50\n",
      "Vorgang:  32 von:  50\n",
      "Vorgang:  33 von:  50\n",
      "Vorgang:  34 von:  50\n",
      "Vorgang:  35 von:  50\n",
      "Vorgang:  36 von:  50\n",
      "Vorgang:  37 von:  50\n",
      "Vorgang:  38 von:  50\n",
      "Vorgang:  39 von:  50\n",
      "Vorgang:  40 von:  50\n",
      "Vorgang:  41 von:  50\n",
      "Vorgang:  42 von:  50\n",
      "Vorgang:  43 von:  50\n",
      "Vorgang:  44 von:  50\n",
      "Vorgang:  45 von:  50\n",
      "Vorgang:  46 von:  50\n",
      "Vorgang:  47 von:  50\n",
      "Vorgang:  48 von:  50\n",
      "Vorgang:  49 von:  50\n",
      "Vorgang:  50 von:  50\n",
      "Messung 30 erfolgreich exportiert\n",
      "Messung des 35° Schritt\n",
      "Vorgang:  1 von:  50\n",
      "Vorgang:  2 von:  50\n",
      "Vorgang:  3 von:  50\n",
      "Vorgang:  4 von:  50\n",
      "Vorgang:  5 von:  50\n",
      "Vorgang:  6 von:  50\n",
      "Vorgang:  7 von:  50\n",
      "Vorgang:  8 von:  50\n",
      "Vorgang:  9 von:  50\n",
      "Vorgang:  10 von:  50\n",
      "Vorgang:  11 von:  50\n",
      "Vorgang:  12 von:  50\n",
      "Vorgang:  13 von:  50\n",
      "Vorgang:  14 von:  50\n",
      "Vorgang:  15 von:  50\n",
      "Vorgang:  16 von:  50\n",
      "Vorgang:  17 von:  50\n",
      "Vorgang:  18 von:  50\n",
      "Vorgang:  19 von:  50\n",
      "Vorgang:  20 von:  50\n",
      "Vorgang:  21 von:  50\n",
      "Vorgang:  22 von:  50\n",
      "Vorgang:  23 von:  50\n",
      "Vorgang:  24 von:  50\n",
      "Vorgang:  25 von:  50\n",
      "Vorgang:  26 von:  50\n",
      "Vorgang:  27 von:  50\n",
      "Vorgang:  28 von:  50\n",
      "Vorgang:  29 von:  50\n",
      "Vorgang:  30 von:  50\n",
      "Vorgang:  31 von:  50\n",
      "Vorgang:  32 von:  50\n",
      "Vorgang:  33 von:  50\n",
      "Vorgang:  34 von:  50\n",
      "Vorgang:  35 von:  50\n",
      "Vorgang:  36 von:  50\n",
      "Vorgang:  37 von:  50\n",
      "Vorgang:  38 von:  50\n",
      "Vorgang:  39 von:  50\n",
      "Vorgang:  40 von:  50\n",
      "Vorgang:  41 von:  50\n",
      "Vorgang:  42 von:  50\n",
      "Vorgang:  43 von:  50\n",
      "Vorgang:  44 von:  50\n",
      "Vorgang:  45 von:  50\n",
      "Vorgang:  46 von:  50\n",
      "Vorgang:  47 von:  50\n",
      "Vorgang:  48 von:  50\n",
      "Vorgang:  49 von:  50\n",
      "Vorgang:  50 von:  50\n",
      "Messung 35 erfolgreich exportiert\n",
      "Messung des 40° Schritt\n",
      "Vorgang:  1 von:  50\n",
      "Vorgang:  2 von:  50\n",
      "Vorgang:  3 von:  50\n",
      "Vorgang:  4 von:  50\n",
      "Vorgang:  5 von:  50\n",
      "Vorgang:  6 von:  50\n",
      "Vorgang:  7 von:  50\n",
      "Vorgang:  8 von:  50\n",
      "Vorgang:  9 von:  50\n",
      "Neustart. Daten sind nicht vollständig...\n",
      "Messung des 40° Schritt\n",
      "Vorgang:  1 von:  50\n",
      "Neustart. Daten sind nicht vollständig...\n",
      "Messung des 40° Schritt\n",
      "Vorgang:  1 von:  50\n",
      "Neustart. Daten sind nicht vollständig...\n",
      "Messung des 40° Schritt\n",
      "Vorgang:  1 von:  50\n",
      "Neustart. Daten sind nicht vollständig...\n",
      "Messung des 40° Schritt\n",
      "Vorgang:  1 von:  50\n"
     ]
    }
   ],
   "source": [
    "print('Fortschritt der Winkelschritte:')\n",
    "pbar = tqdm(total = len(GRAD))\n",
    "check = 0\n",
    "Data = []\n",
    "while check < len(GRAD):\n",
    "    grad = GRAD[check]\n",
    "    #--- Schunk Teller auf Position drehen ---\n",
    "    mod.move_pos(grad)\n",
    "    mod.wait_until_position_reached()\n",
    "    #---\n",
    "    try:\n",
    "        print('Messung des '+ str(grad) + '° Schritt')    \n",
    "        Data = lb.measure_data(Anzahl,serialPort)\n",
    "        lb.export_xlsx(Data,Messung,Mean,grad)\n",
    "        check +=1\n",
    "    except:\n",
    "        Data = []\n",
    "        print('Neustart. Daten sind nicht vollständig...')\n",
    "pbar.close()"
   ]
  },
  {
   "cell_type": "markdown",
   "metadata": {
    "tags": []
   },
   "source": [
    "## Visualisierung\n",
    "\n",
    "Die Visualisierung ist über die PyEIT Bibliothek möglich."
   ]
  }
 ],
 "metadata": {
  "kernelspec": {
   "display_name": "Python 3 (ipykernel)",
   "language": "python",
   "name": "python3"
  },
  "language_info": {
   "codemirror_mode": {
    "name": "ipython",
    "version": 3
   },
   "file_extension": ".py",
   "mimetype": "text/x-python",
   "name": "python",
   "nbconvert_exporter": "python",
   "pygments_lexer": "ipython3",
   "version": "3.8.5"
  }
 },
 "nbformat": 4,
 "nbformat_minor": 4
}

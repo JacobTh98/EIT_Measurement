{
 "cells": [
  {
   "cell_type": "code",
   "execution_count": 1,
   "metadata": {},
   "outputs": [],
   "source": [
    "import functions as fc\n",
    "import numpy as np\n",
    "import matplotlib.pyplot as plt\n",
    "import pandas as pd\n",
    "import cv2 as cv"
   ]
  },
  {
   "cell_type": "code",
   "execution_count": 2,
   "metadata": {},
   "outputs": [],
   "source": [
    "A = fc.record_data(10)"
   ]
  },
  {
   "cell_type": "code",
   "execution_count": 2,
   "metadata": {},
   "outputs": [
    {
     "data": {
      "text/plain": [
       "array([[0., 0., 0., ..., 0., 0., 0.],\n",
       "       [0., 0., 0., ..., 0., 0., 0.],\n",
       "       [0., 0., 0., ..., 0., 0., 0.],\n",
       "       ...,\n",
       "       [0., 0., 0., ..., 0., 0., 0.],\n",
       "       [0., 0., 0., ..., 0., 0., 0.],\n",
       "       [0., 0., 0., ..., 0., 0., 0.]])"
      ]
     },
     "execution_count": 2,
     "metadata": {},
     "output_type": "execute_result"
    }
   ],
   "source": [
    "IMG=np.zeros((1000,1000))\n",
    "cv.circle(IMG,(500,500),500,(255,255,0),1)"
   ]
  },
  {
   "cell_type": "code",
   "execution_count": 5,
   "metadata": {},
   "outputs": [
    {
     "data": {
      "text/plain": [
       "<matplotlib.image.AxesImage at 0x7ffc806b9e50>"
      ]
     },
     "execution_count": 5,
     "metadata": {},
     "output_type": "execute_result"
    },
    {
     "data": {
      "image/png": "[encoded data removed]",
      "text/plain": [
       "<Figure size 432x288 with 1 Axes>"
      ]
     },
     "metadata": {
      "needs_background": "light"
     },
     "output_type": "display_data"
    }
   ],
   "source": [
    "plt.grid()\n",
    "p1 = (100, 200)\n",
    "p2 = (50, 50)\n",
    "p3 = (300, 100)\n",
    "cv.line(IMG, p1, p2, (255, 0, 0), 3)\n",
    "cv.line(IMG, p2, p3, (255, 0, 0), 3)\n",
    "cv.line(IMG, p1, p3, (255, 0, 0), 3)\n",
    "plt.imshow(IMG,cmap='viridis')"
   ]
  },
  {
   "cell_type": "code",
   "execution_count": 71,
   "metadata": {},
   "outputs": [
    {
     "data": {
      "text/plain": [
       "\u001b[0;31mDocstring:\u001b[0m\n",
       "rectangle(img, pt1, pt2, color[, thickness[, lineType[, shift]]]) -> img\n",
       ".   @brief Draws a simple, thick, or filled up-right rectangle.\n",
       ".   \n",
       ".   The function cv::rectangle draws a rectangle outline or a filled rectangle whose two opposite corners\n",
       ".   are pt1 and pt2.\n",
       ".   \n",
       ".   @param img Image.\n",
       ".   @param pt1 Vertex of the rectangle.\n",
       ".   @param pt2 Vertex of the rectangle opposite to pt1 .\n",
       ".   @param color Rectangle color or brightness (grayscale image).\n",
       ".   @param thickness Thickness of lines that make up the rectangle. Negative values, like #FILLED,\n",
       ".   mean that the function has to draw a filled rectangle.\n",
       ".   @param lineType Type of the line. See #LineTypes\n",
       ".   @param shift Number of fractional bits in the point coordinates.\n",
       "\n",
       "\n",
       "\n",
       "rectangle(img, rec, color[, thickness[, lineType[, shift]]]) -> img\n",
       ".   @overload\n",
       ".   \n",
       ".   use `rec` parameter as alternative specification of the drawn rectangle: `r.tl() and\n",
       ".   r.br()-Point(1,1)` are opposite corners\n",
       "\u001b[0;31mType:\u001b[0m      builtin_function_or_method\n"
      ]
     },
     "metadata": {},
     "output_type": "display_data"
    }
   ],
   "source": [
    "cv.rectangle?"
   ]
  },
  {
   "cell_type": "code",
   "execution_count": 1,
   "metadata": {},
   "outputs": [],
   "source": [
    "a=b=5"
   ]
  },
  {
   "cell_type": "code",
   "execution_count": 2,
   "metadata": {},
   "outputs": [
    {
     "data": {
      "text/plain": [
       "5"
      ]
     },
     "execution_count": 2,
     "metadata": {},
     "output_type": "execute_result"
    }
   ],
   "source": [
    "a"
   ]
  },
  {
   "cell_type": "code",
   "execution_count": 3,
   "metadata": {},
   "outputs": [
    {
     "data": {
      "text/plain": [
       "5"
      ]
     },
     "execution_count": 3,
     "metadata": {},
     "output_type": "execute_result"
    }
   ],
   "source": [
    "b"
   ]
  },
  {
   "cell_type": "code",
   "execution_count": 1,
   "metadata": {},
   "outputs": [],
   "source": [
    "import functions as fc\n",
    "import numpy as np\n",
    "import matplotlib.pyplot as plt\n",
    "import pandas as pd\n",
    "import cv2 as cv"
   ]
  },
  {
   "cell_type": "code",
   "execution_count": 6,
   "metadata": {},
   "outputs": [
    {
     "name": "stdout",
     "output_type": "stream",
     "text": [
      "x: 200\n",
      "y: 0\n"
     ]
    },
    {
     "data": {
      "text/plain": [
       "<matplotlib.image.AxesImage at 0x7feceb391d30>"
      ]
     },
     "execution_count": 6,
     "metadata": {},
     "output_type": "execute_result"
    },
    {
     "data": {
      "image/png": "[encoded data removed]",
      "text/plain": [
       "<Figure size 432x288 with 1 Axes>"
      ]
     },
     "metadata": {
      "needs_background": "light"
     },
     "output_type": "display_data"
    }
   ],
   "source": [
    "img = fc.gen_ground_truth_pic('circle',200,np.pi*4)\n",
    "plt.grid()\n",
    "\n",
    "plt.imshow(img,cmap='viridis')"
   ]
  },
  {
   "cell_type": "code",
   "execution_count": 2,
   "metadata": {},
   "outputs": [
    {
     "data": {
      "text/plain": [
       "250"
      ]
     },
     "execution_count": 2,
     "metadata": {},
     "output_type": "execute_result"
    }
   ],
   "source": [
    "round(250*np.sin(np.pi/2))"
   ]
  },
  {
   "cell_type": "code",
   "execution_count": 4,
   "metadata": {},
   "outputs": [
    {
     "data": {
      "text/plain": [
       "\u001b[0;31mDocstring:\u001b[0m\n",
       "rectangle(img, pt1, pt2, color[, thickness[, lineType[, shift]]]) -> img\n",
       ".   @brief Draws a simple, thick, or filled up-right rectangle.\n",
       ".   \n",
       ".   The function cv::rectangle draws a rectangle outline or a filled rectangle whose two opposite corners\n",
       ".   are pt1 and pt2.\n",
       ".   \n",
       ".   @param img Image.\n",
       ".   @param pt1 Vertex of the rectangle.\n",
       ".   @param pt2 Vertex of the rectangle opposite to pt1 .\n",
       ".   @param color Rectangle color or brightness (grayscale image).\n",
       ".   @param thickness Thickness of lines that make up the rectangle. Negative values, like #FILLED,\n",
       ".   mean that the function has to draw a filled rectangle.\n",
       ".   @param lineType Type of the line. See #LineTypes\n",
       ".   @param shift Number of fractional bits in the point coordinates.\n",
       "\n",
       "\n",
       "\n",
       "rectangle(img, rec, color[, thickness[, lineType[, shift]]]) -> img\n",
       ".   @overload\n",
       ".   \n",
       ".   use `rec` parameter as alternative specification of the drawn rectangle: `r.tl() and\n",
       ".   r.br()-Point(1,1)` are opposite corners\n",
       "\u001b[0;31mType:\u001b[0m      builtin_function_or_method\n"
      ]
     },
     "metadata": {},
     "output_type": "display_data"
    }
   ],
   "source": [
    "cv.rectangle?"
   ]
  },
  {
   "cell_type": "code",
   "execution_count": null,
   "metadata": {},
   "outputs": [],
   "source": []
  }
 ],
 "metadata": {
  "kernelspec": {
   "display_name": "Python 3",
   "language": "python",
   "name": "python3"
  },
  "language_info": {
   "codemirror_mode": {
    "name": "ipython",
    "version": 3
   },
   "file_extension": ".py",
   "mimetype": "text/x-python",
   "name": "python",
   "nbconvert_exporter": "python",
   "pygments_lexer": "ipython3",
   "version": "3.8.5"
  }
 },
 "nbformat": 4,
 "nbformat_minor": 4
}

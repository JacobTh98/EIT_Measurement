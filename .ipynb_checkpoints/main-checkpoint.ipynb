{
 "cells": [
  {
   "cell_type": "code",
   "execution_count": 1,
   "metadata": {},
   "outputs": [],
   "source": [
    "import lobi as lb\n",
    "import numpy as np\n",
    "import matplotlib.pyplot as plt\n",
    "import pandas as pd\n",
    "import cv2 as cv\n",
    "import os\n",
    "import serial\n",
    "from tqdm import tqdm"
   ]
  },
  {
   "cell_type": "markdown",
   "metadata": {
    "tags": []
   },
   "source": [
    "### Git pull?\n",
    "- Start auf Windows: python -m jupyterlab"
   ]
  },
  {
   "cell_type": "markdown",
   "metadata": {
    "tags": []
   },
   "source": [
    "## Messung\n",
    "    - Ordner erstellen mit Name der Messung"
   ]
  },
  {
   "cell_type": "code",
   "execution_count": 2,
   "metadata": {},
   "outputs": [],
   "source": [
    "#Globale Angaben einer Messreihe\n",
    "Messung    = 'Test'\n",
    "Elektroden = 32\n",
    "Modus      = 'e'\n",
    "Anzahl     = 3 #Anzahl der aufgenommenen Messwerte"
   ]
  },
  {
   "cell_type": "code",
   "execution_count": 3,
   "metadata": {},
   "outputs": [],
   "source": [
    "#lb.gen_env(Messung,Elektroden,Modus)"
   ]
  },
  {
   "cell_type": "markdown",
   "metadata": {},
   "source": [
    "### Herstellen der Verbindung zum Spectra EIT-Kit"
   ]
  },
  {
   "cell_type": "code",
   "execution_count": 4,
   "metadata": {},
   "outputs": [],
   "source": [
    "serialPort = serial.Serial(port=\"COM7\", baudrate=115200, bytesize=8, timeout=2, stopbits=serial.STOPBITS_ONE)"
   ]
  },
  {
   "cell_type": "code",
   "execution_count": 5,
   "metadata": {},
   "outputs": [
    {
     "name": "stderr",
     "output_type": "stream",
     "text": [
      "100%|████████████████████████████████████████████████████████████████████████████████████| 3/3 [00:15<00:00,  5.28s/it]\n"
     ]
    }
   ],
   "source": [
    "RAW = []\n",
    "for A in tqdm(range(Anzahl)):\n",
    "    RAW.append(serialPort.readline())"
   ]
  },
  {
   "cell_type": "code",
   "execution_count": 24,
   "metadata": {},
   "outputs": [
    {
     "name": "stdout",
     "output_type": "stream",
     "text": [
      "b'    3039.6250,    3336.0000,    2742.6250,    2649.5625,    5197.7500,   10705.0000,    5326.5000,    4571.6250,    2945.1875,    3208.1875,    3176.6250,    3690.7500,    3055.5000,    3087.4375,    2714.8750,    2910.5625,    3185.0625,    3960.2500,   10587.6250,    5195.5000,    2915.9375,    3189.4375,    3145.6875,    3290.6250,    3042.2500,    3134.8750,    2687.3750,    3152.5000,    3236.4375,    5684.8750,    3877.8125,   17057.6875,    2649.5000,    2945.1875,    2859.0625,    2991.6875,    2957.1875,    2747.0000,    2428.0625,    2655.1250,    2634.0625,    4346.3750,    3343.1875,    2574.8750,\\r\\n'\n",
      "b'magnitudes:    18243.0000,    4930.5000,    3512.0000,    2872.8750,    2234.2500,    2211.7500,    1998.8125,    1827.3125,    3361.7500,    1907.5000,    2185.3125,    2163.6875,   15806.0000,    5253.5000,    4586.3750,    3702.3750,    3661.1250,    3721.1250,    3053.8125,    4939.0000,    3244.9375,    3567.0000,    3532.2500,    1945.5625,    3306.6875,   19488.8750,    4276.5000,    3574.8750,    3297.4375,    3245.6250,    3615.7500,    4792.5625,    3158.3750,    3473.5000,    3213.3125,    3031.2500,    2414.5625,    1584.6250,   12574.9375,    2214.6250,    1903.7500,    1903.7500,    1682.1875,    1743.8125,    2374.5000,    1873.5000,    1865.8750,    1755.1875,    4169.5000,    4463.5000,    3062.0625,   12749.9375,    4629.5625,    4252.1250,    3623.1250,    3653.1250,    3549.5000,    4098.7500,    4098.7500,    4043.3750,    2882.0625,    3127.6250,    3315.6250,    2582.5625,    8628.1875,    3690.8750,    2725.8750,    2770.9375,    2478.5000,    4303.3750,    4812.0625,    3016.0625,    2883.5000,    3196.1875,    3383.8750,    3433.6250,    2950.9375,    9071.2500,    3064.1250,    2998.2500,    2773.2500,    4479.1250,    3005.5000,    3306.7500,    2413.3125,    2649.9375,    2866.5000,    2945.5000,    2887.8125,    2264.3125,    4505.4375,    3272.8750,    2473.6250,    4137.8125,    2670.4375,    2714.5625,    1638.9375,    2356.2500,    2202.9375,    1724.0000,    1771.9375,    1724.6250,    4783.8125,    1806.5000,    3389.1875,    1706.3750,    1717.0625,    1699.4375,    1722.8125,    1978.2500,    1808.9375,    1670.6875,    1583.9375,    2087.9375,    4166.6250,    3608.0000,    1938.2500,    1655.1875,    1930.6250,    2041.3125,    2698.0000,    3036.5625,    3071.5625,    2777.1250,    2730.5000,    3020.4375,    2541.5000,    7963.1250,    6664.5000,    3494.8750,    3565.1875,    3498.5000,    2443.0625,    3071.2500,    3046.5625,    2748.0000,    2730.5000,    3020.4375,    2627.5625,    2573.3750,    7717.3125,    3601.4375,    4650.2500,    3830.1875,    2901.8125,    3234.3750,    3111.3750,    3027.2500,    3039.6250,    3336.0000,    2977.6250,    2649.5625,    5218.1875,   10813.5625,    5326.5000,    4571.6250,    2906.1875,    3221.3750,    3158.3750,    3668.5000,    3055.5000,    3087.4375,    2759.7500,    2910.5625,    3185.0625,    3960.2500,   10685.6250,    5227.1875,    2915.9375,    3189.4375,    3213.3125,    3522.4375,    3025.8125,    3055.5000,    2687.3750,    3152.5000,    3252.5000,    5663.6875,    3877.8125,   17057.6875,    2649.5000,    2945.1875,    2916.5625,    3003.9375,    2957.1875,    2735.8750,    2428.0625,    2655.1250,    2634.0625,    4554.0000,    3272.8125,    2574.8750,\\r\\n'\n",
      "b'magnitudes:    18243.0000,    4957.1250,    3717.8750,    2872.8750,    2234.2500,    2211.7500,    1731.0625,    1820.3750,    3419.9375,    1915.2500,    2185.3125,    2163.6875,   15806.0000,    5245.3125,    4586.3750,    3702.3750,    3661.1250,    3721.1250,    3053.8125,    4939.0000,    3244.9375,    3567.0000,    3552.5000,    1842.6875,    3306.6875,   19488.8750,    4276.5000,    3574.8750,    3297.4375,    3494.8750,    3615.7500,    4773.3125,    3145.6875,    3473.5000,    3213.3125,    3031.2500,    2414.5625,    1587.9375,   12574.9375,    2201.6875,    1903.7500,    1903.7500,    1682.1875,    1743.8125,    2374.5000,    1873.5000,    1873.5000,    1745.8750,    4267.6250,    4463.5000,    3258.0000,   12674.5000,    4527.8125,    4252.1250,    3600.4375,    3675.9375,    3549.5000,    4098.7500,    3844.7500,    4020.1875,    2882.0625,    3127.6250,    3315.6250,    2651.0625,    8628.1875,    3690.8750,    2719.7500,    2708.8125,    2519.4375,    4303.3750,    4724.6875,    3016.0625,    2883.5000,    3417.3125,    3383.8750,    3433.6250,    2950.9375,    9035.2500,    3064.1250,    2998.2500,    2762.8125,    4461.0000,    3005.5000,    3306.7500,    2403.6250,    2649.9375,    2849.5625,    2945.5000,    2899.1250,    2264.3125,    4505.4375,    3272.8750,    2482.8750,    3894.1875,    2670.4375,    2714.5625,    1632.4375,    2342.3125,    2211.7500,    1731.0625,    1771.9375,    1733.8750,    4764.8125,    1806.5000,    3389.1875,    1776.0625,    1717.0625,    1717.0625,    1722.8125,    1970.3750,    1790.3750,    1670.6875,    1583.9375,    2087.9375,    4166.6250,    3593.6875,    1938.2500,    1661.8125,    1930.6250,    2028.1250,    2698.0000,    3067.8750,    3059.1875,    2777.1250,    2730.5000,    3032.3750,    2554.3125,    7935.6875,    6664.5000,    3494.8750,    3565.1875,    3498.5000,    2428.0625,    2993.5000,    3046.5625,    2748.0000,    2748.0000,    3020.4375,    2627.5625,    2584.7500,    7717.3125,    3601.4375,    4623.0625,    3830.1875,    2890.1875,    3234.3750,    3343.1250,    3027.2500,    3027.2500,    3336.0000,    2977.6250,    2649.5625,    5218.1875,   10853.6250,    5326.5000,    4571.6250,    2957.1875,    3221.3750,    3176.6250,    3668.5000,    3055.5000,    3100.2500,    2742.6250,    3131.9375,    3185.0625,    3960.2500,   10685.6250,    5195.5000,    2915.9375,    3189.4375,    3158.3750,    3290.6250,    3025.8125,    3361.7500,    2687.3750,    3152.5000,    3236.4375,    5663.6875,    3877.8125,   17057.6875,    2649.5000,    2933.3750,    2859.0625,    3003.9375,    2713.6875,    2735.8750,    2428.0625,    2655.1250,    2634.0625,    4346.3750,    3259.9375,    2566.0000,\\r\\n'\n"
     ]
    }
   ],
   "source": [
    "#DIR = Messung+'/info.txt'\n",
    "DIR = 'test.txt'\n",
    "FILE = open(DIR, \"w\")\n",
    "for ele in RAW:\n",
    "    print(str(ele))\n",
    "    FILE.write(str(ele)) "
   ]
  },
  {
   "cell_type": "code",
   "execution_count": 103,
   "metadata": {},
   "outputs": [],
   "source": [
    "AW = (serialPort.readline())"
   ]
  },
  {
   "cell_type": "code",
   "execution_count": 107,
   "metadata": {},
   "outputs": [
    {
     "data": {
      "text/plain": [
       "bytes"
      ]
     },
     "execution_count": 107,
     "metadata": {},
     "output_type": "execute_result"
    }
   ],
   "source": [
    "type(AW)"
   ]
  },
  {
   "cell_type": "code",
   "execution_count": 108,
   "metadata": {},
   "outputs": [],
   "source": [
    "def parse_line(line):\n",
    "    try:\n",
    "        _, data = line.split(\":\", 1)\n",
    "    except ValueError:\n",
    "        return None\n",
    "    items = []\n",
    "    for item in data.split(\",\"):\n",
    "        item = item.strip()\n",
    "        if not item:\n",
    "            continue\n",
    "        try:\n",
    "            items.append(float(item))\n",
    "        except ValueError:\n",
    "            return None\n",
    "    return np.array(items)"
   ]
  },
  {
   "cell_type": "code",
   "execution_count": 109,
   "metadata": {},
   "outputs": [
    {
     "ename": "TypeError",
     "evalue": "a bytes-like object is required, not 'str'",
     "output_type": "error",
     "traceback": [
      "\u001b[1;31m---------------------------------------------------------------------------\u001b[0m",
      "\u001b[1;31mTypeError\u001b[0m                                 Traceback (most recent call last)",
      "\u001b[1;32m~\\AppData\\Local\\Temp/ipykernel_8448/2592710710.py\u001b[0m in \u001b[0;36m<module>\u001b[1;34m\u001b[0m\n\u001b[1;32m----> 1\u001b[1;33m \u001b[0mparse_line\u001b[0m\u001b[1;33m(\u001b[0m\u001b[0mAW\u001b[0m\u001b[1;33m)\u001b[0m\u001b[1;33m\u001b[0m\u001b[1;33m\u001b[0m\u001b[0m\n\u001b[0m",
      "\u001b[1;32m~\\AppData\\Local\\Temp/ipykernel_8448/1523066146.py\u001b[0m in \u001b[0;36mparse_line\u001b[1;34m(line)\u001b[0m\n\u001b[0;32m      1\u001b[0m \u001b[1;32mdef\u001b[0m \u001b[0mparse_line\u001b[0m\u001b[1;33m(\u001b[0m\u001b[0mline\u001b[0m\u001b[1;33m)\u001b[0m\u001b[1;33m:\u001b[0m\u001b[1;33m\u001b[0m\u001b[1;33m\u001b[0m\u001b[0m\n\u001b[0;32m      2\u001b[0m     \u001b[1;32mtry\u001b[0m\u001b[1;33m:\u001b[0m\u001b[1;33m\u001b[0m\u001b[1;33m\u001b[0m\u001b[0m\n\u001b[1;32m----> 3\u001b[1;33m         \u001b[0m_\u001b[0m\u001b[1;33m,\u001b[0m \u001b[0mdata\u001b[0m \u001b[1;33m=\u001b[0m \u001b[0mline\u001b[0m\u001b[1;33m.\u001b[0m\u001b[0msplit\u001b[0m\u001b[1;33m(\u001b[0m\u001b[1;34m\":\"\u001b[0m\u001b[1;33m,\u001b[0m \u001b[1;36m1\u001b[0m\u001b[1;33m)\u001b[0m\u001b[1;33m\u001b[0m\u001b[1;33m\u001b[0m\u001b[0m\n\u001b[0m\u001b[0;32m      4\u001b[0m     \u001b[1;32mexcept\u001b[0m \u001b[0mValueError\u001b[0m\u001b[1;33m:\u001b[0m\u001b[1;33m\u001b[0m\u001b[1;33m\u001b[0m\u001b[0m\n\u001b[0;32m      5\u001b[0m         \u001b[1;32mreturn\u001b[0m \u001b[1;32mNone\u001b[0m\u001b[1;33m\u001b[0m\u001b[1;33m\u001b[0m\u001b[0m\n",
      "\u001b[1;31mTypeError\u001b[0m: a bytes-like object is required, not 'str'"
     ]
    }
   ],
   "source": [
    "parse_line(AW)"
   ]
  },
  {
   "cell_type": "code",
   "execution_count": 40,
   "metadata": {},
   "outputs": [],
   "source": [
    "lines = serialPort.readline()"
   ]
  },
  {
   "cell_type": "markdown",
   "metadata": {},
   "source": [
    "### Ground truth"
   ]
  },
  {
   "cell_type": "code",
   "execution_count": 5,
   "metadata": {},
   "outputs": [],
   "source": [
    "A = lb.generate_data(10)"
   ]
  },
  {
   "cell_type": "code",
   "execution_count": 6,
   "metadata": {},
   "outputs": [
    {
     "name": "stdout",
     "output_type": "stream",
     "text": [
      "Bild gespeichert\n"
     ]
    },
    {
     "data": {
      "text/plain": [
       "<matplotlib.image.AxesImage at 0x7fd6250bc310>"
      ]
     },
     "execution_count": 6,
     "metadata": {},
     "output_type": "execute_result"
    },
    {
     "data": {
      "image/png": "[encoded data removed]",
      "text/plain": [
       "<Figure size 432x288 with 1 Axes>"
      ]
     },
     "metadata": {
      "needs_background": "light"
     },
     "output_type": "display_data"
    }
   ],
   "source": [
    "img1 = lb.ground_truth(['rectangle','circle'],[25,50],[0,3*np.pi/2], Messung ,save_img=True)\n",
    "plt.grid()\n",
    "plt.imshow(img1,cmap='viridis')"
   ]
  },
  {
   "cell_type": "code",
   "execution_count": null,
   "metadata": {},
   "outputs": [],
   "source": []
  }
 ],
 "metadata": {
  "kernelspec": {
   "display_name": "Python 3 (ipykernel)",
   "language": "python",
   "name": "python3"
  },
  "language_info": {
   "codemirror_mode": {
    "name": "ipython",
    "version": 3
   },
   "file_extension": ".py",
   "mimetype": "text/x-python",
   "name": "python",
   "nbconvert_exporter": "python",
   "pygments_lexer": "ipython3",
   "version": "3.9.7"
  }
 },
 "nbformat": 4,
 "nbformat_minor": 4
}

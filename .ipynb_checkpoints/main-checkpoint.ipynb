{
 "cells": [
  {
   "cell_type": "code",
   "execution_count": 1,
   "metadata": {},
   "outputs": [],
   "source": [
    "import lobi as lb\n",
    "import numpy as np\n",
    "import matplotlib.pyplot as plt\n",
    "import pandas as pd\n",
    "import cv2 as cv\n",
    "import os\n",
    "import serial\n",
    "from tqdm import tqdm"
   ]
  },
  {
   "cell_type": "markdown",
   "metadata": {
    "tags": []
   },
   "source": [
    "### Git pull?\n",
    "- Start auf Windows: python -m jupyterlab"
   ]
  },
  {
   "cell_type": "markdown",
   "metadata": {
    "tags": []
   },
   "source": [
    "## Messung\n",
    "    - Ordner erstellen mit Name der Messung"
   ]
  },
  {
   "cell_type": "code",
   "execution_count": 2,
   "metadata": {},
   "outputs": [],
   "source": [
    "#Globale Angaben einer Messreihe\n",
    "Messung    = 'Test'\n",
    "Elektroden = 32\n",
    "Modus      = 'e'\n",
    "Objekt     = 'Zylinder'\n",
    "Anzahl     = 3 #Anzahl der aufgenommenen Messwerte"
   ]
  },
  {
   "cell_type": "code",
   "execution_count": 3,
   "metadata": {},
   "outputs": [],
   "source": [
    "#lb.gen_env(Messung,Elektroden,Modus)"
   ]
  },
  {
   "cell_type": "markdown",
   "metadata": {},
   "source": [
    "### Herstellen der Verbindung zum Spectra EIT-Kit"
   ]
  },
  {
   "cell_type": "code",
   "execution_count": 4,
   "metadata": {},
   "outputs": [
    {
     "name": "stdout",
     "output_type": "stream",
     "text": [
      "Verbindung zu: COM7 erfolgreich hergestellt.\n"
     ]
    }
   ],
   "source": [
    "serialPort = lb.init(\"COM7\")"
   ]
  },
  {
   "cell_type": "markdown",
   "metadata": {},
   "source": [
    "### Messung für `Anzahl` an Werten starten\n",
    "- Hier würde theoretisch der Drehteller von Bedeutung werden."
   ]
  },
  {
   "cell_type": "code",
   "execution_count": 7,
   "metadata": {},
   "outputs": [
    {
     "name": "stdout",
     "output_type": "stream",
     "text": [
      "Vorgang:  1 von:  3\n",
      "Vorgang:  2 von:  3\n",
      "Vorgang:  2 von:  3\n",
      "Vorgang:  3 von:  3\n"
     ]
    }
   ],
   "source": [
    "Data = lb.measure_data(Anzahl,serialPort)"
   ]
  },
  {
   "cell_type": "code",
   "execution_count": 11,
   "metadata": {},
   "outputs": [
    {
     "data": {
      "text/plain": [
       "array([14899.89583333,  4937.1875    ,  3313.95833333,  2756.1875    ,\n",
       "        2209.75      ,  2237.35416667,  1748.91666667,  1840.45833333,\n",
       "        3407.875     ,  1948.9375    ,  2183.58333333,  2167.20833333,\n",
       "       12643.95833333,  5386.9375    ,  4280.35416667,  3673.5       ,\n",
       "        3724.8125    ,  3787.1875    ,  3108.52083333,  4989.0625    ,\n",
       "        3315.52083333,  3656.41666667,  3549.0625    ,  2116.4375    ,\n",
       "        3600.64583333, 13349.54166667,  4874.77083333,  3634.02083333,\n",
       "        3440.45833333,  3330.75      ,  3518.875     ,  4896.625     ,\n",
       "        3262.27083333,  3341.875     ,  3308.6875    ,  3104.41666667,\n",
       "        2202.9375    ,  2062.375     ,  8956.39583333,  2464.64583333,\n",
       "        1948.9375    ,  1929.4375    ,  1712.27083333,  1712.27083333,\n",
       "        2450.1875    ,  1937.39583333,  1666.6875    ,  1802.8125    ,\n",
       "        4066.14583333,  4503.75      ,  3821.5625    , 10968.9375    ,\n",
       "        4701.16666667,  4386.10416667,  3741.        ,  3976.20833333,\n",
       "        3626.85416667,  4058.875     ,  3933.1875    ,  4127.70833333,\n",
       "        2957.45833333,  3253.20833333,  3302.14583333,  2837.91666667,\n",
       "        8247.375     ,  3759.79166667,  2562.0625    ,  2842.375     ,\n",
       "        2586.375     ,  4406.79166667,  4940.29166667,  3077.58333333,\n",
       "        2984.875     ,  3288.0625    ,  3308.6875    ,  3409.29166667,\n",
       "        3061.1875    ,  9082.52083333,  3131.1875    ,  3109.5625    ,\n",
       "        2835.5625    ,  4703.3125    ,  3054.97916667,  3342.64583333,\n",
       "        2450.64583333,  2713.75      ,  2717.33333333,  2748.27083333,\n",
       "        2951.3125    ,  2361.        ,  4875.29166667,  3371.29166667,\n",
       "        2536.75      ,  4024.6875    ,  2516.3125    ,  2766.45833333,\n",
       "        1670.9375    ,  2150.        ,  2247.0625    ,  1748.10416667,\n",
       "        1666.        ,  1742.52083333,  5057.77083333,  1815.9375    ,\n",
       "        3439.125     ,  1740.5625    ,  1746.625     ,  1740.5625    ,\n",
       "        1695.70833333,  1729.25      ,  1745.14583333,  1601.3125    ,\n",
       "        1518.5       ,  2103.875     ,  4249.6875    ,  3664.5       ,\n",
       "        1964.66666667,  1694.25      ,  1976.5       ,  2139.0625    ,\n",
       "        2797.5625    ,  3190.375     ,  3142.125     ,  2838.        ,\n",
       "        2823.54166667,  3148.25      ,  2606.08333333,  8070.91666667,\n",
       "        6793.39583333,  3562.45833333,  3647.33333333,  3614.35416667,\n",
       "        2602.625     ,  3119.58333333,  3114.9375    ,  2814.70833333,\n",
       "        2804.89583333,  3073.33333333,  2910.10416667,  2799.77083333,\n",
       "        7640.08333333,  3925.54166667,  4817.625     ,  4018.        ,\n",
       "        2799.83333333,  3338.3125    ,  3343.95833333,  3109.5625    ,\n",
       "        3105.5       ,  3443.6875    ,  2820.27083333,  2779.95833333,\n",
       "        5307.45833333,  9547.1875    ,  5679.25      ,  4663.08333333,\n",
       "        3022.5625    ,  3300.3125    ,  3329.1875    ,  3410.125     ,\n",
       "        3097.375     ,  3164.14583333,  2797.5625    ,  3050.6875    ,\n",
       "        3233.41666667,  4206.60416667,  8885.375     ,  5433.25      ,\n",
       "        2999.625     ,  3291.8125    ,  3263.20833333,  3375.6875    ,\n",
       "        3077.10416667,  3338.58333333,  2743.54166667,  3219.375     ,\n",
       "        3118.875     ,  5780.125     ,  4062.0625    , 13773.0625    ,\n",
       "        2714.29166667,  2891.83333333,  2943.9375    ,  3077.58333333,\n",
       "        2780.8125    ,  2780.52083333,  2486.9375    ,  2753.97916667,\n",
       "        2686.77083333,  4601.52083333,  3296.97916667,  2881.14583333])"
      ]
     },
     "execution_count": 11,
     "metadata": {},
     "output_type": "execute_result"
    }
   ],
   "source": [
    "lb.mean_data(Data)"
   ]
  },
  {
   "cell_type": "markdown",
   "metadata": {},
   "source": [
    "### Ground truth"
   ]
  },
  {
   "cell_type": "code",
   "execution_count": 5,
   "metadata": {},
   "outputs": [],
   "source": [
    "A = lb.generate_data(10)"
   ]
  },
  {
   "cell_type": "code",
   "execution_count": 6,
   "metadata": {},
   "outputs": [
    {
     "name": "stdout",
     "output_type": "stream",
     "text": [
      "Bild gespeichert\n"
     ]
    },
    {
     "data": {
      "text/plain": [
       "<matplotlib.image.AxesImage at 0x7fd6250bc310>"
      ]
     },
     "execution_count": 6,
     "metadata": {},
     "output_type": "execute_result"
    },
    {
     "data": {
      "image/png": "[encoded data removed]",
      "text/plain": [
       "<Figure size 432x288 with 1 Axes>"
      ]
     },
     "metadata": {
      "needs_background": "light"
     },
     "output_type": "display_data"
    }
   ],
   "source": [
    "img1 = lb.ground_truth(['rectangle','circle'],[25,50],[0,3*np.pi/2], Messung ,save_img=True)\n",
    "plt.grid()\n",
    "plt.imshow(img1,cmap='viridis')"
   ]
  },
  {
   "cell_type": "code",
   "execution_count": null,
   "metadata": {},
   "outputs": [],
   "source": []
  }
 ],
 "metadata": {
  "kernelspec": {
   "display_name": "Python 3 (ipykernel)",
   "language": "python",
   "name": "python3"
  },
  "language_info": {
   "codemirror_mode": {
    "name": "ipython",
    "version": 3
   },
   "file_extension": ".py",
   "mimetype": "text/x-python",
   "name": "python",
   "nbconvert_exporter": "python",
   "pygments_lexer": "ipython3",
   "version": "3.9.7"
  }
 },
 "nbformat": 4,
 "nbformat_minor": 4
}

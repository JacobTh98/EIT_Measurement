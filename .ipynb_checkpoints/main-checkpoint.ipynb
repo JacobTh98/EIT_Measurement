{
 "cells": [
  {
   "cell_type": "code",
   "execution_count": 2,
   "metadata": {},
   "outputs": [],
   "source": [
    "import lobi as lb\n",
    "import numpy as np\n",
    "import matplotlib.pyplot as plt\n",
    "import pandas as pd\n",
    "import cv2 as cv\n",
    "import os\n",
    "import serial\n",
    "from tqdm import tqdm"
   ]
  },
  {
   "cell_type": "markdown",
   "metadata": {
    "tags": []
   },
   "source": [
    "### Git pull?\n",
    "- Start auf Windows: python -m jupyterlab"
   ]
  },
  {
   "cell_type": "markdown",
   "metadata": {
    "tags": []
   },
   "source": [
    "## Messung\n",
    "    - Ordner erstellen mit Name der Messung"
   ]
  },
  {
   "cell_type": "code",
   "execution_count": 3,
   "metadata": {},
   "outputs": [],
   "source": [
    "#Globale Angaben einer Messreihe\n",
    "Name       = 'Zylinder0'\n",
    "Messung    = 'Erste'\n",
    "Elektroden = 32\n",
    "SchunkStep = 180 #[grad/Schritt]\n",
    "Modus      = 'e'\n",
    "Objekt     = 'Zylinder'\n",
    "Anzahl     = 2 #Anzahl der aufgenommenen Messwerte"
   ]
  },
  {
   "cell_type": "code",
   "execution_count": 4,
   "metadata": {},
   "outputs": [],
   "source": [
    "#Sicherhaltshalber mehr Messungen\n",
    "Anzahl +=5\n",
    "#SchrittArray für Schunk Drehteller:\n",
    "GRAD = np.arange(0,360,SchunkStep)"
   ]
  },
  {
   "cell_type": "code",
   "execution_count": 5,
   "metadata": {},
   "outputs": [
    {
     "name": "stdout",
     "output_type": "stream",
     "text": [
      "Ordner mit dem Namen:\" Erste \" wurde erstellt.\n"
     ]
    }
   ],
   "source": [
    "lb.gen_env(Messung,Elektroden,Modus,SchunkStep)"
   ]
  },
  {
   "cell_type": "markdown",
   "metadata": {},
   "source": [
    "### Herstellen der Verbindung zum Spectra EIT-Kit"
   ]
  },
  {
   "cell_type": "code",
   "execution_count": 6,
   "metadata": {},
   "outputs": [
    {
     "name": "stdout",
     "output_type": "stream",
     "text": [
      "Verbindung zu: COM7 erfolgreich hergestellt.\n"
     ]
    }
   ],
   "source": [
    "serialPort = lb.init(\"COM7\")"
   ]
  },
  {
   "cell_type": "code",
   "execution_count": 7,
   "metadata": {},
   "outputs": [],
   "source": [
    "Anzahl = 2"
   ]
  },
  {
   "cell_type": "markdown",
   "metadata": {},
   "source": [
    "### Ground truth"
   ]
  },
  {
   "cell_type": "code",
   "execution_count": 8,
   "metadata": {},
   "outputs": [
    {
     "name": "stdout",
     "output_type": "stream",
     "text": [
      "Bild gespeichert\n"
     ]
    },
    {
     "data": {
      "text/plain": [
       "<matplotlib.image.AxesImage at 0x19997e84790>"
      ]
     },
     "execution_count": 8,
     "metadata": {},
     "output_type": "execute_result"
    },
    {
     "data": {
      "image/png": "[encoded data removed]",
      "text/plain": [
       "<Figure size 432x288 with 1 Axes>"
      ]
     },
     "metadata": {
      "needs_background": "light"
     },
     "output_type": "display_data"
    }
   ],
   "source": [
    "img1 = lb.ground_truth(['circle'],[50],[0*np.pi/2], Messung ,save_img=True)\n",
    "plt.grid()\n",
    "plt.imshow(img1,cmap='viridis')"
   ]
  },
  {
   "cell_type": "markdown",
   "metadata": {},
   "source": [
    "## Mittelwert ohne Probe aufnehmen\n",
    "- Beachten, dass keine Probe in der Messumgebung ist"
   ]
  },
  {
   "cell_type": "code",
   "execution_count": 14,
   "metadata": {},
   "outputs": [
    {
     "name": "stdout",
     "output_type": "stream",
     "text": [
      "Messung des Mittelwertbildes\n",
      "Vorgang:  1 von:  3\n",
      "Vorgang:  2 von:  3\n",
      "Vorgang:  2 von:  3\n",
      "Vorgang:  3 von:  3\n"
     ]
    }
   ],
   "source": [
    "Mean = []\n",
    "Anzahl_mean = 3\n",
    "try:\n",
    "    print('Messung des Mittelwertbildes')    \n",
    "    Mean = lb.measure_data(Anzahl_mean,serialPort)\n",
    "except:\n",
    "    Mean = []\n",
    "    print('Bitte erneut ausführen')\n",
    "Mean = np.mean(Mean,0)"
   ]
  },
  {
   "cell_type": "code",
   "execution_count": null,
   "metadata": {},
   "outputs": [],
   "source": [
    "# Mittelwert speichern?\n",
    "np.save('Mean', Mean)"
   ]
  },
  {
   "cell_type": "markdown",
   "metadata": {},
   "source": [
    "### Messung für `Anzahl` an Werten starten\n",
    "- `GRAD` ... Winkelschritte in °.\n",
    "- `grad` ... wird auf den aktuellen Drehwinkel des Drehtellers gesetzt.\n",
    "- Wenn die `Data` leer ist, wird die Iteration von `grad` neu gestartet.\n",
    "- `try` wird zur verhinderung von nicht vollständigen Messungen verwendet."
   ]
  },
  {
   "cell_type": "code",
   "execution_count": 17,
   "metadata": {},
   "outputs": [
    {
     "name": "stdout",
     "output_type": "stream",
     "text": [
      "Messung des 0° Schritt\n",
      "Vorgang:  1 von:  2\n",
      "Vorgang:  2 von:  2\n",
      "Messung 0 erfolgreich exportier\n",
      "Messung des 180° Schritt\n",
      "Vorgang:  1 von:  2\n",
      "Vorgang:  2 von:  2\n",
      "Messung 180 erfolgreich exportier\n"
     ]
    }
   ],
   "source": [
    "check = 0\n",
    "Data = []\n",
    "while check < len(GRAD):\n",
    "    grad = GRAD[check]\n",
    "    #--- Schunk Teller auf Position drehen ---\n",
    "    #---\n",
    "    try:\n",
    "        print('Messung des '+ str(grad) + '° Schritt')    \n",
    "        Data = lb.measure_data(Anzahl,serialPort)\n",
    "        lb.export_xlsx(Data,Messung,Mean,grad)\n",
    "        check +=1\n",
    "    except:\n",
    "        Data = []\n",
    "        print('Neustart. Daten sind nicht vollständig...')"
   ]
  },
  {
   "cell_type": "markdown",
   "metadata": {},
   "source": [
    "## Visualisierung"
   ]
  }
 ],
 "metadata": {
  "kernelspec": {
   "display_name": "Python 3 (ipykernel)",
   "language": "python",
   "name": "python3"
  },
  "language_info": {
   "codemirror_mode": {
    "name": "ipython",
    "version": 3
   },
   "file_extension": ".py",
   "mimetype": "text/x-python",
   "name": "python",
   "nbconvert_exporter": "python",
   "pygments_lexer": "ipython3",
   "version": "3.9.7"
  }
 },
 "nbformat": 4,
 "nbformat_minor": 4
}

{
 "cells": [
  {
   "cell_type": "code",
   "execution_count": 1,
   "metadata": {},
   "outputs": [],
   "source": [
    "import lobi as lb\n",
    "import numpy as np\n",
    "import matplotlib.pyplot as plt\n",
    "%matplotlib inline\n",
    "import pandas as pd\n",
    "import cv2 as cv\n",
    "import os\n",
    "import serial\n",
    "from tqdm import tqdm\n",
    "import schunk"
   ]
  },
  {
   "cell_type": "markdown",
   "metadata": {
    "tags": []
   },
   "source": [
    "## Messung\n",
    "- [Index](index.ipynb)\n",
    "\n",
    "Hier werden alle Parameter und Informationen für den Datensatz übergeben.    \n",
    "- `Messung` Name des Dateiordners. Bsp.: Zylinder P(0.5,0)\n",
    "- `Elektroden` Anzahl der messenden Elektroden [16,32]. Dementsprechend wir 'd' oder 'e' an das SpectraEIT-Kit gesendet.\n",
    "- `SchunkStep` Schrittweite zwischen den Messungen\n",
    "- `Leitwert` gemessen mit Leitwertmessgerät\n",
    "- `Temperatur` Raumtemperatur\n",
    "- `Wasserstand` Wasserstand ist die Variable für die höhe der eingefüllten Flüssigkeit\n",
    "- `Sonstiges` Weitere Informationen können vorab über dieses Feld hinzugefügt werden. Diese Variable wird über die gesamte Messdatenaufnahme nicht mehr aufgerufen.\n",
    "- `Objekt` Umfasst die in dem Messbereich eingefügten Messobjekte. Muss bei der `ground_truth` Funktion selbst neu eingefügt werden."
   ]
  },
  {
   "cell_type": "code",
   "execution_count": 2,
   "metadata": {},
   "outputs": [],
   "source": [
    "#Globale Angaben einer Messreihe\n",
    "Messung     = 'Zylinder P(0.5,0)' # Dateiordnername\n",
    "Elektroden  = 16                  # Anzahl der Elektroden\n",
    "SchunkStep  = 5                   #[grad/Schritt]\n",
    "Leitwert    = 1                   # Leitfähigkeit Wasser\n",
    "Temperatur  = 20                  # Raumtemperatur [°C]\n",
    "Wasserstand = 33                  # Wasserstand [mm]\n",
    "Sonstiges   = 'Keine weiteren Angaben'\n",
    "Objekt      = 'Quader'\n",
    "Anzahl      = 50                  #Anzahl der aufzunehmenden Messwerte"
   ]
  },
  {
   "cell_type": "code",
   "execution_count": 3,
   "metadata": {},
   "outputs": [
    {
     "data": {
      "text/plain": [
       "array([  0,   5,  10,  15,  20,  25,  30,  35,  40,  45,  50,  55,  60,\n",
       "        65,  70,  75,  80,  85,  90,  95, 100, 105, 110, 115, 120, 125,\n",
       "       130, 135, 140, 145, 150, 155, 160, 165, 170, 175, 180, 185, 190,\n",
       "       195, 200, 205, 210, 215, 220, 225, 230, 235, 240, 245, 250, 255,\n",
       "       260, 265, 270, 275, 280, 285, 290, 295, 300, 305, 310, 315, 320,\n",
       "       325, 330, 335, 340, 345, 350, 355, 360])"
      ]
     },
     "execution_count": 3,
     "metadata": {},
     "output_type": "execute_result"
    }
   ],
   "source": [
    "#SchrittArray für Schunk Drehteller:\n",
    "GRAD = np.arange(0,361,SchunkStep)\n",
    "GRAD"
   ]
  },
  {
   "cell_type": "code",
   "execution_count": 4,
   "metadata": {},
   "outputs": [
    {
     "name": "stdout",
     "output_type": "stream",
     "text": [
      "Ordner mit dem Namen:\" Zylinder P(0.5,0) \" wurde erstellt.\n"
     ]
    },
    {
     "ename": "FileExistsError",
     "evalue": "[WinError 183] Eine Datei kann nicht erstellt werden, wenn sie bereits vorhanden ist: 'Zylinder P(0.5,0)'",
     "output_type": "error",
     "traceback": [
      "\u001b[1;31m---------------------------------------------------------------------------\u001b[0m",
      "\u001b[1;31mFileExistsError\u001b[0m                           Traceback (most recent call last)",
      "\u001b[1;32m~\\AppData\\Local\\Temp/ipykernel_15948/1407065981.py\u001b[0m in \u001b[0;36m<module>\u001b[1;34m\u001b[0m\n\u001b[1;32m----> 1\u001b[1;33m \u001b[0mlb\u001b[0m\u001b[1;33m.\u001b[0m\u001b[0mgen_env\u001b[0m\u001b[1;33m(\u001b[0m\u001b[0mMessung\u001b[0m\u001b[1;33m,\u001b[0m\u001b[0mElektroden\u001b[0m\u001b[1;33m,\u001b[0m\u001b[0mSchunkStep\u001b[0m\u001b[1;33m,\u001b[0m\u001b[0mLeitwert\u001b[0m\u001b[1;33m,\u001b[0m\u001b[0mTemperatur\u001b[0m\u001b[1;33m,\u001b[0m \u001b[0mWasserstand\u001b[0m\u001b[1;33m,\u001b[0m \u001b[0mSonstiges\u001b[0m\u001b[1;33m)\u001b[0m\u001b[1;33m\u001b[0m\u001b[1;33m\u001b[0m\u001b[0m\n\u001b[0m",
      "\u001b[1;32m~\\OneDrive\\Desktop\\Masterprojekt\\EIT_Measurement\\lobi.py\u001b[0m in \u001b[0;36mgen_env\u001b[1;34m(mes, el, Schnkstp, leitw, temp, wasst, sonst)\u001b[0m\n\u001b[0;32m     39\u001b[0m     \u001b[1;32mif\u001b[0m \u001b[0mel\u001b[0m \u001b[1;33m==\u001b[0m \u001b[1;36m32\u001b[0m\u001b[1;33m:\u001b[0m\u001b[1;33m\u001b[0m\u001b[1;33m\u001b[0m\u001b[0m\n\u001b[0;32m     40\u001b[0m         \u001b[0mmod\u001b[0m \u001b[1;33m=\u001b[0m \u001b[1;34m'e'\u001b[0m\u001b[1;33m\u001b[0m\u001b[1;33m\u001b[0m\u001b[0m\n\u001b[1;32m---> 41\u001b[1;33m     \u001b[0mos\u001b[0m\u001b[1;33m.\u001b[0m\u001b[0mmakedirs\u001b[0m\u001b[1;33m(\u001b[0m\u001b[0mmes\u001b[0m\u001b[1;33m)\u001b[0m\u001b[1;33m\u001b[0m\u001b[1;33m\u001b[0m\u001b[0m\n\u001b[0m\u001b[0;32m     42\u001b[0m     \u001b[0mdr\u001b[0m \u001b[1;33m=\u001b[0m \u001b[0mmes\u001b[0m\u001b[1;33m+\u001b[0m\u001b[1;34m'/info.txt'\u001b[0m\u001b[1;33m\u001b[0m\u001b[1;33m\u001b[0m\u001b[0m\n\u001b[0;32m     43\u001b[0m     \u001b[0mf\u001b[0m \u001b[1;33m=\u001b[0m \u001b[0mopen\u001b[0m\u001b[1;33m(\u001b[0m\u001b[0mdr\u001b[0m\u001b[1;33m,\u001b[0m\u001b[1;34m\"w\"\u001b[0m\u001b[1;33m)\u001b[0m\u001b[1;33m\u001b[0m\u001b[1;33m\u001b[0m\u001b[0m\n",
      "\u001b[1;32mC:\\ProgramData\\Anaconda3\\lib\\os.py\u001b[0m in \u001b[0;36mmakedirs\u001b[1;34m(name, mode, exist_ok)\u001b[0m\n\u001b[0;32m    223\u001b[0m             \u001b[1;32mreturn\u001b[0m\u001b[1;33m\u001b[0m\u001b[1;33m\u001b[0m\u001b[0m\n\u001b[0;32m    224\u001b[0m     \u001b[1;32mtry\u001b[0m\u001b[1;33m:\u001b[0m\u001b[1;33m\u001b[0m\u001b[1;33m\u001b[0m\u001b[0m\n\u001b[1;32m--> 225\u001b[1;33m         \u001b[0mmkdir\u001b[0m\u001b[1;33m(\u001b[0m\u001b[0mname\u001b[0m\u001b[1;33m,\u001b[0m \u001b[0mmode\u001b[0m\u001b[1;33m)\u001b[0m\u001b[1;33m\u001b[0m\u001b[1;33m\u001b[0m\u001b[0m\n\u001b[0m\u001b[0;32m    226\u001b[0m     \u001b[1;32mexcept\u001b[0m \u001b[0mOSError\u001b[0m\u001b[1;33m:\u001b[0m\u001b[1;33m\u001b[0m\u001b[1;33m\u001b[0m\u001b[0m\n\u001b[0;32m    227\u001b[0m         \u001b[1;31m# Cannot rely on checking for EEXIST, since the operating system\u001b[0m\u001b[1;33m\u001b[0m\u001b[1;33m\u001b[0m\u001b[0m\n",
      "\u001b[1;31mFileExistsError\u001b[0m: [WinError 183] Eine Datei kann nicht erstellt werden, wenn sie bereits vorhanden ist: 'Zylinder P(0.5,0)'"
     ]
    }
   ],
   "source": [
    "lb.gen_env(Messung,Elektroden,SchunkStep,Leitwert,Temperatur, Wasserstand, Sonstiges)"
   ]
  },
  {
   "cell_type": "markdown",
   "metadata": {},
   "source": [
    "## Herstellen Verbindung Schunk"
   ]
  },
  {
   "cell_type": "code",
   "execution_count": 2,
   "metadata": {},
   "outputs": [],
   "source": [
    "mod = schunk.Module(schunk.SerialConnection(0x0B, serial.Serial, port='COM3', baudrate=9600, timeout=1))"
   ]
  },
  {
   "cell_type": "markdown",
   "metadata": {},
   "source": [
    "## (try:) Herstellen der Verbindung zum Spectra EIT-Kit und Übergabe des Messmodus"
   ]
  },
  {
   "cell_type": "code",
   "execution_count": null,
   "metadata": {},
   "outputs": [],
   "source": [
    "serialPort = lb.init_with_nel(\"COM4\",Elektroden)"
   ]
  },
  {
   "cell_type": "markdown",
   "metadata": {
    "tags": []
   },
   "source": [
    "## Herstellen der Verbindung zum Spectra EIT-Kit"
   ]
  },
  {
   "cell_type": "code",
   "execution_count": 6,
   "metadata": {},
   "outputs": [
    {
     "name": "stdout",
     "output_type": "stream",
     "text": [
      "Verbindung zu: COM4 erfolgreich hergestellt.\n"
     ]
    }
   ],
   "source": [
    "#serialPort = lb.init(\"COM7\")\n",
    "serialPort = lb.init(\"COM4\")"
   ]
  },
  {
   "cell_type": "markdown",
   "metadata": {},
   "source": [
    "## Testen Schunk"
   ]
  },
  {
   "cell_type": "code",
   "execution_count": 23,
   "metadata": {},
   "outputs": [
    {
     "name": "stdout",
     "output_type": "stream",
     "text": [
      "0\n",
      "90\n",
      "180\n",
      "270\n",
      "360\n"
     ]
    },
    {
     "data": {
      "text/plain": [
       "24.256122589111328"
      ]
     },
     "execution_count": 23,
     "metadata": {},
     "output_type": "execute_result"
    }
   ],
   "source": [
    "angles=np.arange(0,361,90) #(0,361,90)\n",
    "angles\n",
    "for angle in angles:\n",
    "    mod.move_pos(angle)\n",
    "    mod.wait_until_position_reached()\n",
    "    print(angle)\n",
    "mod.move_pos(0)"
   ]
  },
  {
   "cell_type": "code",
   "execution_count": 3,
   "metadata": {},
   "outputs": [
    {
     "data": {
      "text/plain": [
       "2.922583818435669"
      ]
     },
     "execution_count": 3,
     "metadata": {},
     "output_type": "execute_result"
    }
   ],
   "source": [
    "mod.move_pos(0)"
   ]
  },
  {
   "cell_type": "markdown",
   "metadata": {},
   "source": [
    "## Ground truth\n",
    "Es müssen Arrays übergeben werden. Grundsätzlich müssen die Anzahl der in den Arrays enthaltenen Elementen identisch sein.\n",
    "- `['rectangle','circle','triangle']` Auswahl eines oder mehrerer gleicher oder unterschiedlicher Elemente\n",
    "- `[r]` Abstand des Gegenstandes vom Mittelpunkt in Prozent ($r[\\%] = \\sqrt{x^2+y^2}\\cdot 100$)\n",
    "- `[α]` Winkel bezogen auf die $x$-Achse des Gegenstandes. Drehrichtung ist abhängig von `clockdirection`\n",
    "- `Dir` Verzeichnes in dem das Groundtruth Bild gespeichert werden soll.\n",
    "\n",
    "optional:\n",
    "- `clockdirection` Drehung um den Winkel α _in_ oder _gegen_ der Uhrzeigersinn\n",
    "- `save_img` default `save_img = True`"
   ]
  },
  {
   "cell_type": "code",
   "execution_count": 5,
   "metadata": {},
   "outputs": [
    {
     "name": "stdout",
     "output_type": "stream",
     "text": [
      "Bild gespeichert\n"
     ]
    },
    {
     "data": {
      "text/plain": [
       "<matplotlib.image.AxesImage at 0x2d97af2ea00>"
      ]
     },
     "execution_count": 5,
     "metadata": {},
     "output_type": "execute_result"
    },
    {
     "data": {
      "image/png": "[encoded data removed]",
      "text/plain": [
       "<Figure size 432x288 with 1 Axes>"
      ]
     },
     "metadata": {
      "needs_background": "light"
     },
     "output_type": "display_data"
    }
   ],
   "source": [
    "#Kartesische Eingabe\n",
    "P_x_y = [0.5,0]\n",
    "R = lb.CarCirc(P_x_y)\n",
    "#Manuelle prozentuale Eingabe:\n",
    "#R = [100]\n",
    "img1 = lb.ground_truth(['rectangle'],R,[0*np.pi], Messung ,save_img=True)\n",
    "plt.grid()\n",
    "plt.imshow(img1,cmap='viridis')"
   ]
  },
  {
   "cell_type": "code",
   "execution_count": 15,
   "metadata": {},
   "outputs": [
    {
     "data": {
      "text/plain": [
       "2"
      ]
     },
     "execution_count": 15,
     "metadata": {},
     "output_type": "execute_result"
    }
   ],
   "source": [
    "4//2"
   ]
  },
  {
   "cell_type": "code",
   "execution_count": 19,
   "metadata": {},
   "outputs": [
    {
     "data": {
      "text/plain": [
       "\u001b[1;31mInit signature:\u001b[0m \u001b[0mrange\u001b[0m\u001b[1;33m(\u001b[0m\u001b[0mself\u001b[0m\u001b[1;33m,\u001b[0m \u001b[1;33m/\u001b[0m\u001b[1;33m,\u001b[0m \u001b[1;33m*\u001b[0m\u001b[0margs\u001b[0m\u001b[1;33m,\u001b[0m \u001b[1;33m**\u001b[0m\u001b[0mkwargs\u001b[0m\u001b[1;33m)\u001b[0m\u001b[1;33m\u001b[0m\u001b[1;33m\u001b[0m\u001b[0m\n",
       "\u001b[1;31mDocstring:\u001b[0m     \n",
       "range(stop) -> range object\n",
       "range(start, stop[, step]) -> range object\n",
       "\n",
       "Return an object that produces a sequence of integers from start (inclusive)\n",
       "to stop (exclusive) by step.  range(i, j) produces i, i+1, i+2, ..., j-1.\n",
       "start defaults to 0, and stop is omitted!  range(4) produces 0, 1, 2, 3.\n",
       "These are exactly the valid indices for a list of 4 elements.\n",
       "When step is given, it specifies the increment (or decrement).\n",
       "\u001b[1;31mType:\u001b[0m           type\n",
       "\u001b[1;31mSubclasses:\u001b[0m     \n"
      ]
     },
     "metadata": {},
     "output_type": "display_data"
    }
   ],
   "source": [
    "range?"
   ]
  },
  {
   "cell_type": "code",
   "execution_count": 20,
   "metadata": {},
   "outputs": [
    {
     "name": "stdout",
     "output_type": "stream",
     "text": [
      "0\n",
      "2\n"
     ]
    }
   ],
   "source": [
    "for i in range(0,4,2):\n",
    "    print(i)"
   ]
  },
  {
   "cell_type": "markdown",
   "metadata": {},
   "source": [
    "## Mittelwert ohne Probe aufnehmen\n",
    "- Beachten, dass keine Probe in der Messumgebung ist"
   ]
  },
  {
   "cell_type": "code",
   "execution_count": 9,
   "metadata": {},
   "outputs": [
    {
     "name": "stdout",
     "output_type": "stream",
     "text": [
      "Messung des Mittelwertbildes\n",
      "Vorgang:  1 von:  20\n",
      "Vorgang:  2 von:  20\n",
      "Vorgang:  2 von:  20\n",
      "Vorgang:  3 von:  20\n",
      "Vorgang:  4 von:  20\n",
      "Vorgang:  5 von:  20\n",
      "Vorgang:  6 von:  20\n",
      "Vorgang:  7 von:  20\n",
      "Vorgang:  8 von:  20\n",
      "Vorgang:  9 von:  20\n",
      "Vorgang:  10 von:  20\n",
      "Vorgang:  11 von:  20\n",
      "Vorgang:  12 von:  20\n",
      "Vorgang:  13 von:  20\n",
      "Vorgang:  14 von:  20\n",
      "Vorgang:  15 von:  20\n",
      "Vorgang:  16 von:  20\n",
      "Vorgang:  17 von:  20\n",
      "Vorgang:  18 von:  20\n",
      "Vorgang:  19 von:  20\n",
      "Vorgang:  20 von:  20\n"
     ]
    }
   ],
   "source": [
    "Mean = []\n",
    "Anzahl_mean = 20\n",
    "try:\n",
    "    print('Messung des Mittelwertbildes')    \n",
    "    Mean = lb.measure_data(Anzahl_mean,serialPort)\n",
    "except:\n",
    "    Mean = []\n",
    "    print('Bitte erneut ausführen')\n",
    "Mean = np.mean(Mean,0)"
   ]
  },
  {
   "cell_type": "code",
   "execution_count": 10,
   "metadata": {},
   "outputs": [],
   "source": [
    "# Mittelwert speichern?\n",
    "np.save(str(Messung)+'/'+'Mean_empty_ground', Mean)"
   ]
  },
  {
   "cell_type": "code",
   "execution_count": 8,
   "metadata": {},
   "outputs": [],
   "source": [
    "Mean = np.load('Zylinder_mittig/Mean_empty_ground.npy')"
   ]
  },
  {
   "cell_type": "markdown",
   "metadata": {},
   "source": [
    "### Messung für `Anzahl` an Werten starten\n",
    "- `GRAD` ... Winkelschritte in °.\n",
    "- `grad` ... wird auf den aktuellen Drehwinkel des Drehtellers gesetzt.\n",
    "- Wenn die `Data` leer ist, wird die Iteration von `grad` neu gestartet.\n",
    "- `try` wird zur verhinderung von nicht vollständigen Messungen verwendet."
   ]
  },
  {
   "cell_type": "code",
   "execution_count": 9,
   "metadata": {},
   "outputs": [
    {
     "data": {
      "text/plain": [
       "array([  5,  10,  15,  20,  25,  30,  35,  40,  45,  50,  55,  60,  65,\n",
       "        70,  75,  80,  85,  90,  95, 100, 105, 110, 115, 120, 125, 130,\n",
       "       135, 140, 145, 150, 155, 160, 165, 170, 175, 180, 185, 190, 195,\n",
       "       200, 205, 210, 215, 220, 225, 230, 235, 240, 245, 250, 255, 260,\n",
       "       265, 270, 275, 280, 285, 290, 295, 300, 305, 310, 315, 320, 325,\n",
       "       330, 335, 340, 345, 350, 355, 360])"
      ]
     },
     "execution_count": 9,
     "metadata": {},
     "output_type": "execute_result"
    }
   ],
   "source": [
    "#temp\n",
    "GRAD = GRAD[1:]\n",
    "GRAD"
   ]
  },
  {
   "cell_type": "code",
   "execution_count": null,
   "metadata": {},
   "outputs": [
    {
     "name": "stderr",
     "output_type": "stream",
     "text": [
      "  0%|                                                                                           | 0/72 [00:00<?, ?it/s]"
     ]
    },
    {
     "name": "stdout",
     "output_type": "stream",
     "text": [
      "Fortschritt der Winkelschritte:\n",
      "Messung des 5° Schritt\n",
      "Vorgang:  1 von:  50\n",
      "Neustart. Daten sind nicht vollständig...\n",
      "Messung des 5° Schritt\n",
      "Vorgang:  1 von:  50\n",
      "Vorgang:  1 von:  50\n",
      "Vorgang:  2 von:  50\n",
      "Vorgang:  3 von:  50\n",
      "Vorgang:  4 von:  50\n",
      "Vorgang:  5 von:  50\n",
      "Vorgang:  6 von:  50\n",
      "Vorgang:  7 von:  50\n",
      "Vorgang:  8 von:  50\n",
      "Vorgang:  9 von:  50\n",
      "Vorgang:  10 von:  50\n",
      "Vorgang:  11 von:  50\n",
      "Vorgang:  12 von:  50\n",
      "Vorgang:  13 von:  50\n",
      "Vorgang:  14 von:  50\n",
      "Vorgang:  15 von:  50\n",
      "Vorgang:  16 von:  50\n",
      "Vorgang:  17 von:  50\n",
      "Vorgang:  18 von:  50\n",
      "Vorgang:  19 von:  50\n",
      "Vorgang:  20 von:  50\n",
      "Vorgang:  21 von:  50\n",
      "Vorgang:  22 von:  50\n",
      "Vorgang:  23 von:  50\n",
      "Vorgang:  24 von:  50\n",
      "Vorgang:  25 von:  50\n",
      "Vorgang:  26 von:  50\n",
      "Vorgang:  27 von:  50\n",
      "Vorgang:  28 von:  50\n",
      "Vorgang:  29 von:  50\n",
      "Vorgang:  30 von:  50\n",
      "Vorgang:  31 von:  50\n",
      "Vorgang:  32 von:  50\n",
      "Vorgang:  33 von:  50\n",
      "Vorgang:  34 von:  50\n",
      "Vorgang:  35 von:  50\n",
      "Vorgang:  36 von:  50\n",
      "Vorgang:  37 von:  50\n",
      "Vorgang:  38 von:  50\n",
      "Vorgang:  39 von:  50\n",
      "Vorgang:  40 von:  50\n",
      "Vorgang:  41 von:  50\n",
      "Vorgang:  42 von:  50\n",
      "Vorgang:  43 von:  50\n",
      "Vorgang:  44 von:  50\n",
      "Vorgang:  45 von:  50\n",
      "Vorgang:  46 von:  50\n",
      "Vorgang:  47 von:  50\n",
      "Vorgang:  48 von:  50\n",
      "Vorgang:  49 von:  50\n",
      "Vorgang:  50 von:  50\n",
      "Messung 5 erfolgreich exportiert\n",
      "Messung des 10° Schritt\n",
      "Vorgang:  1 von:  50\n",
      "Vorgang:  2 von:  50\n",
      "Vorgang:  3 von:  50\n",
      "Vorgang:  4 von:  50\n",
      "Vorgang:  5 von:  50\n",
      "Vorgang:  6 von:  50\n",
      "Vorgang:  7 von:  50\n",
      "Vorgang:  8 von:  50\n",
      "Vorgang:  9 von:  50\n",
      "Vorgang:  10 von:  50\n",
      "Vorgang:  11 von:  50\n",
      "Vorgang:  12 von:  50\n",
      "Vorgang:  13 von:  50\n",
      "Vorgang:  14 von:  50\n",
      "Vorgang:  15 von:  50\n",
      "Vorgang:  16 von:  50\n",
      "Vorgang:  17 von:  50\n",
      "Vorgang:  18 von:  50\n",
      "Vorgang:  19 von:  50\n",
      "Vorgang:  20 von:  50\n",
      "Vorgang:  21 von:  50\n",
      "Vorgang:  22 von:  50\n",
      "Vorgang:  23 von:  50\n",
      "Vorgang:  24 von:  50\n",
      "Vorgang:  25 von:  50\n",
      "Vorgang:  26 von:  50\n",
      "Vorgang:  27 von:  50\n",
      "Vorgang:  28 von:  50\n",
      "Vorgang:  29 von:  50\n",
      "Vorgang:  30 von:  50\n",
      "Vorgang:  31 von:  50\n",
      "Vorgang:  32 von:  50\n",
      "Vorgang:  33 von:  50\n",
      "Vorgang:  34 von:  50\n",
      "Vorgang:  35 von:  50\n",
      "Vorgang:  36 von:  50\n",
      "Vorgang:  37 von:  50\n",
      "Vorgang:  38 von:  50\n",
      "Vorgang:  39 von:  50\n",
      "Vorgang:  40 von:  50\n",
      "Vorgang:  41 von:  50\n",
      "Vorgang:  42 von:  50\n",
      "Vorgang:  43 von:  50\n",
      "Vorgang:  44 von:  50\n",
      "Vorgang:  45 von:  50\n",
      "Vorgang:  46 von:  50\n",
      "Vorgang:  47 von:  50\n",
      "Vorgang:  48 von:  50\n",
      "Vorgang:  49 von:  50\n",
      "Vorgang:  50 von:  50\n",
      "Messung 10 erfolgreich exportiert\n",
      "Messung des 15° Schritt\n",
      "Vorgang:  1 von:  50\n",
      "Vorgang:  2 von:  50\n",
      "Vorgang:  3 von:  50\n",
      "Vorgang:  4 von:  50\n",
      "Vorgang:  5 von:  50\n",
      "Vorgang:  6 von:  50\n",
      "Vorgang:  7 von:  50\n",
      "Vorgang:  8 von:  50\n",
      "Vorgang:  9 von:  50\n",
      "Vorgang:  10 von:  50\n",
      "Vorgang:  11 von:  50\n",
      "Vorgang:  12 von:  50\n",
      "Vorgang:  13 von:  50\n",
      "Vorgang:  14 von:  50\n",
      "Vorgang:  15 von:  50\n",
      "Vorgang:  16 von:  50\n",
      "Vorgang:  17 von:  50\n",
      "Vorgang:  18 von:  50\n",
      "Vorgang:  19 von:  50\n",
      "Vorgang:  20 von:  50\n",
      "Vorgang:  21 von:  50\n",
      "Vorgang:  22 von:  50\n",
      "Vorgang:  23 von:  50\n",
      "Vorgang:  24 von:  50\n",
      "Vorgang:  25 von:  50\n",
      "Vorgang:  26 von:  50\n",
      "Vorgang:  27 von:  50\n",
      "Vorgang:  28 von:  50\n",
      "Vorgang:  29 von:  50\n",
      "Vorgang:  30 von:  50\n",
      "Vorgang:  31 von:  50\n",
      "Vorgang:  32 von:  50\n",
      "Vorgang:  33 von:  50\n",
      "Vorgang:  34 von:  50\n",
      "Vorgang:  35 von:  50\n",
      "Vorgang:  36 von:  50\n",
      "Vorgang:  37 von:  50\n",
      "Vorgang:  38 von:  50\n",
      "Vorgang:  39 von:  50\n",
      "Vorgang:  40 von:  50\n",
      "Vorgang:  41 von:  50\n",
      "Vorgang:  42 von:  50\n",
      "Vorgang:  43 von:  50\n",
      "Vorgang:  44 von:  50\n",
      "Vorgang:  45 von:  50\n",
      "Vorgang:  46 von:  50\n",
      "Vorgang:  47 von:  50\n",
      "Vorgang:  48 von:  50\n",
      "Vorgang:  49 von:  50\n",
      "Vorgang:  50 von:  50\n",
      "Messung 15 erfolgreich exportiert\n",
      "Messung des 20° Schritt\n",
      "Vorgang:  1 von:  50\n",
      "Vorgang:  2 von:  50\n",
      "Vorgang:  3 von:  50\n",
      "Vorgang:  4 von:  50\n",
      "Vorgang:  5 von:  50\n",
      "Vorgang:  6 von:  50\n",
      "Vorgang:  7 von:  50\n",
      "Vorgang:  8 von:  50\n",
      "Vorgang:  9 von:  50\n",
      "Vorgang:  10 von:  50\n",
      "Vorgang:  11 von:  50\n",
      "Vorgang:  12 von:  50\n",
      "Vorgang:  13 von:  50\n",
      "Vorgang:  14 von:  50\n",
      "Vorgang:  15 von:  50\n",
      "Vorgang:  16 von:  50\n",
      "Vorgang:  17 von:  50\n",
      "Vorgang:  18 von:  50\n",
      "Vorgang:  19 von:  50\n",
      "Vorgang:  20 von:  50\n",
      "Vorgang:  21 von:  50\n",
      "Vorgang:  22 von:  50\n",
      "Vorgang:  23 von:  50\n",
      "Vorgang:  24 von:  50\n",
      "Vorgang:  25 von:  50\n",
      "Vorgang:  26 von:  50\n",
      "Vorgang:  27 von:  50\n",
      "Vorgang:  28 von:  50\n",
      "Vorgang:  29 von:  50\n",
      "Vorgang:  30 von:  50\n",
      "Vorgang:  31 von:  50\n",
      "Vorgang:  32 von:  50\n",
      "Vorgang:  33 von:  50\n",
      "Vorgang:  34 von:  50\n",
      "Vorgang:  35 von:  50\n",
      "Vorgang:  36 von:  50\n",
      "Vorgang:  37 von:  50\n",
      "Vorgang:  38 von:  50\n",
      "Vorgang:  39 von:  50\n",
      "Vorgang:  40 von:  50\n",
      "Vorgang:  41 von:  50\n",
      "Vorgang:  42 von:  50\n",
      "Vorgang:  43 von:  50\n",
      "Vorgang:  44 von:  50\n",
      "Vorgang:  45 von:  50\n",
      "Vorgang:  46 von:  50\n",
      "Vorgang:  47 von:  50\n",
      "Vorgang:  48 von:  50\n",
      "Vorgang:  49 von:  50\n",
      "Vorgang:  50 von:  50\n",
      "Messung 20 erfolgreich exportiert\n",
      "Messung des 25° Schritt\n",
      "Vorgang:  1 von:  50\n",
      "Vorgang:  2 von:  50\n",
      "Vorgang:  3 von:  50\n",
      "Vorgang:  4 von:  50\n",
      "Vorgang:  5 von:  50\n",
      "Vorgang:  6 von:  50\n",
      "Vorgang:  7 von:  50\n",
      "Vorgang:  8 von:  50\n",
      "Vorgang:  9 von:  50\n",
      "Vorgang:  10 von:  50\n",
      "Vorgang:  11 von:  50\n",
      "Vorgang:  12 von:  50\n",
      "Vorgang:  13 von:  50\n",
      "Vorgang:  14 von:  50\n",
      "Vorgang:  15 von:  50\n",
      "Vorgang:  16 von:  50\n",
      "Vorgang:  17 von:  50\n",
      "Vorgang:  18 von:  50\n",
      "Vorgang:  19 von:  50\n",
      "Vorgang:  20 von:  50\n",
      "Vorgang:  21 von:  50\n",
      "Vorgang:  22 von:  50\n",
      "Vorgang:  23 von:  50\n",
      "Vorgang:  24 von:  50\n",
      "Vorgang:  25 von:  50\n",
      "Vorgang:  26 von:  50\n",
      "Vorgang:  27 von:  50\n",
      "Vorgang:  28 von:  50\n",
      "Vorgang:  29 von:  50\n",
      "Vorgang:  30 von:  50\n",
      "Vorgang:  31 von:  50\n",
      "Vorgang:  32 von:  50\n",
      "Vorgang:  33 von:  50\n",
      "Vorgang:  34 von:  50\n",
      "Vorgang:  35 von:  50\n",
      "Vorgang:  36 von:  50\n",
      "Vorgang:  37 von:  50\n",
      "Vorgang:  38 von:  50\n",
      "Vorgang:  39 von:  50\n",
      "Vorgang:  40 von:  50\n",
      "Vorgang:  41 von:  50\n",
      "Vorgang:  42 von:  50\n",
      "Vorgang:  43 von:  50\n",
      "Vorgang:  44 von:  50\n",
      "Vorgang:  45 von:  50\n",
      "Vorgang:  46 von:  50\n",
      "Vorgang:  47 von:  50\n",
      "Vorgang:  48 von:  50\n",
      "Vorgang:  49 von:  50\n",
      "Vorgang:  50 von:  50\n",
      "Messung 25 erfolgreich exportiert\n",
      "Messung des 30° Schritt\n",
      "Vorgang:  1 von:  50\n",
      "Vorgang:  2 von:  50\n",
      "Vorgang:  3 von:  50\n",
      "Vorgang:  4 von:  50\n",
      "Vorgang:  5 von:  50\n",
      "Vorgang:  6 von:  50\n",
      "Vorgang:  7 von:  50\n",
      "Vorgang:  8 von:  50\n",
      "Vorgang:  9 von:  50\n",
      "Vorgang:  10 von:  50\n",
      "Vorgang:  11 von:  50\n",
      "Vorgang:  12 von:  50\n",
      "Vorgang:  13 von:  50\n",
      "Vorgang:  14 von:  50\n",
      "Vorgang:  15 von:  50\n",
      "Vorgang:  16 von:  50\n",
      "Vorgang:  17 von:  50\n",
      "Vorgang:  18 von:  50\n",
      "Vorgang:  19 von:  50\n",
      "Vorgang:  20 von:  50\n",
      "Vorgang:  21 von:  50\n",
      "Vorgang:  22 von:  50\n",
      "Vorgang:  23 von:  50\n",
      "Vorgang:  24 von:  50\n",
      "Vorgang:  25 von:  50\n",
      "Vorgang:  26 von:  50\n",
      "Vorgang:  27 von:  50\n",
      "Vorgang:  28 von:  50\n",
      "Vorgang:  29 von:  50\n",
      "Vorgang:  30 von:  50\n",
      "Vorgang:  31 von:  50\n",
      "Vorgang:  32 von:  50\n",
      "Vorgang:  33 von:  50\n",
      "Vorgang:  34 von:  50\n",
      "Vorgang:  35 von:  50\n",
      "Vorgang:  36 von:  50\n",
      "Vorgang:  37 von:  50\n",
      "Vorgang:  38 von:  50\n",
      "Vorgang:  39 von:  50\n",
      "Vorgang:  40 von:  50\n",
      "Vorgang:  41 von:  50\n",
      "Vorgang:  42 von:  50\n",
      "Vorgang:  43 von:  50\n",
      "Vorgang:  44 von:  50\n",
      "Vorgang:  45 von:  50\n",
      "Vorgang:  46 von:  50\n",
      "Vorgang:  47 von:  50\n",
      "Vorgang:  48 von:  50\n",
      "Vorgang:  49 von:  50\n",
      "Vorgang:  50 von:  50\n",
      "Messung 30 erfolgreich exportiert\n",
      "Messung des 35° Schritt\n",
      "Vorgang:  1 von:  50\n",
      "Vorgang:  2 von:  50\n",
      "Vorgang:  3 von:  50\n",
      "Vorgang:  4 von:  50\n",
      "Vorgang:  5 von:  50\n",
      "Vorgang:  6 von:  50\n",
      "Vorgang:  7 von:  50\n",
      "Vorgang:  8 von:  50\n",
      "Vorgang:  9 von:  50\n",
      "Vorgang:  10 von:  50\n",
      "Vorgang:  11 von:  50\n",
      "Vorgang:  12 von:  50\n",
      "Vorgang:  13 von:  50\n",
      "Vorgang:  14 von:  50\n",
      "Vorgang:  15 von:  50\n",
      "Vorgang:  16 von:  50\n",
      "Vorgang:  17 von:  50\n",
      "Vorgang:  18 von:  50\n",
      "Vorgang:  19 von:  50\n",
      "Vorgang:  20 von:  50\n",
      "Vorgang:  21 von:  50\n",
      "Vorgang:  22 von:  50\n",
      "Vorgang:  23 von:  50\n",
      "Vorgang:  24 von:  50\n",
      "Vorgang:  25 von:  50\n",
      "Vorgang:  26 von:  50\n",
      "Vorgang:  27 von:  50\n",
      "Vorgang:  28 von:  50\n",
      "Vorgang:  29 von:  50\n",
      "Vorgang:  30 von:  50\n",
      "Vorgang:  31 von:  50\n",
      "Vorgang:  32 von:  50\n",
      "Vorgang:  33 von:  50\n",
      "Vorgang:  34 von:  50\n",
      "Vorgang:  35 von:  50\n",
      "Vorgang:  36 von:  50\n",
      "Vorgang:  37 von:  50\n",
      "Vorgang:  38 von:  50\n",
      "Vorgang:  39 von:  50\n",
      "Vorgang:  40 von:  50\n",
      "Vorgang:  41 von:  50\n",
      "Vorgang:  42 von:  50\n",
      "Vorgang:  43 von:  50\n",
      "Vorgang:  44 von:  50\n",
      "Vorgang:  45 von:  50\n",
      "Vorgang:  46 von:  50\n",
      "Vorgang:  47 von:  50\n",
      "Vorgang:  48 von:  50\n",
      "Vorgang:  49 von:  50\n",
      "Vorgang:  50 von:  50\n",
      "Messung 35 erfolgreich exportiert\n",
      "Messung des 40° Schritt\n",
      "Vorgang:  1 von:  50\n",
      "Vorgang:  2 von:  50\n",
      "Vorgang:  3 von:  50\n",
      "Vorgang:  4 von:  50\n",
      "Vorgang:  5 von:  50\n",
      "Vorgang:  6 von:  50\n",
      "Vorgang:  7 von:  50\n",
      "Vorgang:  8 von:  50\n",
      "Vorgang:  9 von:  50\n",
      "Neustart. Daten sind nicht vollständig...\n",
      "Messung des 40° Schritt\n",
      "Vorgang:  1 von:  50\n",
      "Neustart. Daten sind nicht vollständig...\n",
      "Messung des 40° Schritt\n",
      "Vorgang:  1 von:  50\n",
      "Neustart. Daten sind nicht vollständig...\n",
      "Messung des 40° Schritt\n",
      "Vorgang:  1 von:  50\n",
      "Neustart. Daten sind nicht vollständig...\n",
      "Messung des 40° Schritt\n",
      "Vorgang:  1 von:  50\n"
     ]
    }
   ],
   "source": [
    "print('Fortschritt der Winkelschritte:')\n",
    "pbar = tqdm(total = len(GRAD))\n",
    "check = 0\n",
    "Data = []\n",
    "while check < len(GRAD):\n",
    "    grad = GRAD[check]\n",
    "    #--- Schunk Teller auf Position drehen ---\n",
    "    mod.move_pos(grad)\n",
    "    mod.wait_until_position_reached()\n",
    "    #---\n",
    "    try:\n",
    "        print('Messung des '+ str(grad) + '° Schritt')    \n",
    "        Data = lb.measure_data(Anzahl,serialPort)\n",
    "        lb.export_xlsx(Data,Messung,Mean,grad)\n",
    "        check +=1\n",
    "    except:\n",
    "        Data = []\n",
    "        print('Neustart. Daten sind nicht vollständig...')\n",
    "pbar.close()"
   ]
  },
  {
   "cell_type": "markdown",
   "metadata": {
    "tags": []
   },
   "source": [
    "## Visualisierung\n",
    "\n",
    "Die Visualisierung ist über die PyEIT Bibliothek möglich."
   ]
  }
 ],
 "metadata": {
  "kernelspec": {
   "display_name": "Python 3 (ipykernel)",
   "language": "python",
   "name": "python3"
  },
  "language_info": {
   "codemirror_mode": {
    "name": "ipython",
    "version": 3
   },
   "file_extension": ".py",
   "mimetype": "text/x-python",
   "name": "python",
   "nbconvert_exporter": "python",
   "pygments_lexer": "ipython3",
   "version": "3.9.7"
  }
 },
 "nbformat": 4,
 "nbformat_minor": 4
}

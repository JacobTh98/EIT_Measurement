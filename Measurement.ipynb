{
 "cells": [
  {
   "cell_type": "code",
   "execution_count": 1,
   "metadata": {},
   "outputs": [],
   "source": [
    "import lobi as lb\n",
    "import numpy as np\n",
    "import matplotlib.pyplot as plt\n",
    "%matplotlib inline\n",
    "import pandas as pd\n",
    "import cv2 as cv\n",
    "import os\n",
    "import serial\n",
    "from tqdm import tqdm\n",
    "import schunk"
   ]
  },
  {
   "cell_type": "markdown",
   "metadata": {
    "tags": []
   },
   "source": [
    "## Messung\n",
    "- [Index](index.ipynb)\n",
    "\n",
    "Hier werden alle Parameter und Informationen für den Datensatz übergeben.    \n",
    "- `Messung` Name des Dateiordners. Bsp.: Zylinder P(0.5,0)\n",
    "- `Elektroden` Anzahl der messenden Elektroden [16,32]. Dementsprechend wir 'd' oder 'e' an das SpectraEIT-Kit gesendet.\n",
    "- `SchunkStep` Schrittweite zwischen den Messungen\n",
    "- `Leitwert` gemessen mit Leitwertmessgerät\n",
    "- `Temperatur` Raumtemperatur\n",
    "- `Wasserstand` Wasserstand ist die Variable für die höhe der eingefüllten Flüssigkeit\n",
    "- `Sonstiges` Weitere Informationen können vorab über dieses Feld hinzugefügt werden. Diese Variable wird über die gesamte Messdatenaufnahme nicht mehr aufgerufen.\n",
    "- `Objekt` Umfasst die in dem Messbereich eingefügten Messobjekte. Muss bei der `ground_truth` Funktion selbst neu eingefügt werden."
   ]
  },
  {
   "cell_type": "code",
   "execution_count": 2,
   "metadata": {},
   "outputs": [],
   "source": [
    "#Globale Angaben einer Messreihe\n",
    "Messung     = 'Zylinder P(0.5,0)_k' # Dateiordnername\n",
    "Elektroden  = 16                  # Anzahl der Elektroden\n",
    "SchunkStep  = 15                   #[grad/Schritt]\n",
    "Leitwert    = 1                   # Leitfähigkeit Wasser\n",
    "Temperatur  = 20                  # Raumtemperatur [°C]\n",
    "Wasserstand = 33                  # Wasserstand [mm]\n",
    "Sonstiges   = 'Flüssigkeit:Kochsalzlösung'\n",
    "Objekt      = 'Quader'\n",
    "Anzahl      = 2                  #Anzahl der aufzunehmenden Messwerte"
   ]
  },
  {
   "cell_type": "code",
   "execution_count": 3,
   "metadata": {},
   "outputs": [
    {
     "data": {
      "text/plain": [
       "array([  0,  15,  30,  45,  60,  75,  90, 105, 120, 135, 150, 165, 180,\n",
       "       195, 210, 225, 240, 255, 270, 285, 300, 315, 330, 345, 360])"
      ]
     },
     "execution_count": 3,
     "metadata": {},
     "output_type": "execute_result"
    }
   ],
   "source": [
    "#SchrittArray für Schunk Drehteller:\n",
    "GRAD = np.arange(0,361,SchunkStep)\n",
    "GRAD"
   ]
  },
  {
   "cell_type": "code",
   "execution_count": 4,
   "metadata": {},
   "outputs": [
    {
     "name": "stdout",
     "output_type": "stream",
     "text": [
      "Ordner mit dem Namen:\" Zylinder P(0.5,0)_k \" wurde erstellt.\n"
     ]
    }
   ],
   "source": [
    "lb.gen_env(Messung,Elektroden,SchunkStep,Leitwert,Temperatur, Wasserstand, Sonstiges)"
   ]
  },
  {
   "cell_type": "markdown",
   "metadata": {},
   "source": [
    "## Herstellen Verbindung Schunk"
   ]
  },
  {
   "cell_type": "code",
   "execution_count": 5,
   "metadata": {},
   "outputs": [],
   "source": [
    "mod = schunk.Module(schunk.SerialConnection(0x0B, serial.Serial, port='COM3', baudrate=9600, timeout=1))"
   ]
  },
  {
   "cell_type": "markdown",
   "metadata": {
    "tags": []
   },
   "source": [
    "## Herstellen der Verbindung zum Spectra EIT-Kit"
   ]
  },
  {
   "cell_type": "code",
   "execution_count": 6,
   "metadata": {},
   "outputs": [
    {
     "name": "stdout",
     "output_type": "stream",
     "text": [
      "Verbindung zu: COM4 erfolgreich hergestellt.\n"
     ]
    }
   ],
   "source": [
    "#serialPort = lb.init(\"COM7\")\n",
    "serialPort = lb.init(\"COM4\")"
   ]
  },
  {
   "cell_type": "markdown",
   "metadata": {},
   "source": [
    "## Testen Schunk"
   ]
  },
  {
   "cell_type": "code",
   "execution_count": 23,
   "metadata": {},
   "outputs": [
    {
     "name": "stdout",
     "output_type": "stream",
     "text": [
      "0\n",
      "90\n",
      "180\n",
      "270\n",
      "360\n"
     ]
    },
    {
     "data": {
      "text/plain": [
       "24.256122589111328"
      ]
     },
     "execution_count": 23,
     "metadata": {},
     "output_type": "execute_result"
    }
   ],
   "source": [
    "angles=np.arange(0,361,90) #(0,361,90)\n",
    "angles\n",
    "for angle in angles:\n",
    "    mod.move_pos(angle)\n",
    "    mod.wait_until_position_reached()\n",
    "    print(angle)\n",
    "mod.move_pos(0)"
   ]
  },
  {
   "cell_type": "code",
   "execution_count": 7,
   "metadata": {},
   "outputs": [
    {
     "data": {
      "text/plain": [
       "24.256345748901367"
      ]
     },
     "execution_count": 7,
     "metadata": {},
     "output_type": "execute_result"
    }
   ],
   "source": [
    "mod.move_pos(0)"
   ]
  },
  {
   "cell_type": "markdown",
   "metadata": {},
   "source": [
    "## Ground truth\n",
    "Es müssen Arrays übergeben werden. Grundsätzlich müssen die Anzahl der in den Arrays enthaltenen Elementen identisch sein.\n",
    "- `['rectangle','circle','triangle']` Auswahl eines oder mehrerer gleicher oder unterschiedlicher Elemente\n",
    "- `[r]` Abstand des Gegenstandes vom Mittelpunkt in Prozent ($r[\\%] = \\sqrt{x^2+y^2}\\cdot 100$)\n",
    "- `[α]` Winkel bezogen auf die $x$-Achse des Gegenstandes. Drehrichtung ist abhängig von `clockdirection`\n",
    "- `Dir` Verzeichnes in dem das Groundtruth Bild gespeichert werden soll.\n",
    "\n",
    "optional:\n",
    "- `clockdirection` Drehung um den Winkel α _in_ oder _gegen_ der Uhrzeigersinn\n",
    "- `save_img` default `save_img = True`"
   ]
  },
  {
   "cell_type": "code",
   "execution_count": 8,
   "metadata": {},
   "outputs": [
    {
     "name": "stdout",
     "output_type": "stream",
     "text": [
      "Bild gespeichert\n"
     ]
    },
    {
     "data": {
      "text/plain": [
       "<matplotlib.image.AxesImage at 0x1f4a952d9a0>"
      ]
     },
     "execution_count": 8,
     "metadata": {},
     "output_type": "execute_result"
    },
    {
     "data": {
      "image/png": "[encoded data removed]",
      "text/plain": [
       "<Figure size 432x288 with 1 Axes>"
      ]
     },
     "metadata": {
      "needs_background": "light"
     },
     "output_type": "display_data"
    }
   ],
   "source": [
    "#Kartesische Eingabe\n",
    "P_x_y = [0.5,0]\n",
    "R = lb.CarCirc(P_x_y)\n",
    "#Manuelle prozentuale Eingabe:\n",
    "#R = [100]\n",
    "img1 = lb.ground_truth(['circle'],R,[0*np.pi], Messung ,save_img=True)\n",
    "plt.grid()\n",
    "plt.imshow(img1,cmap='viridis')"
   ]
  },
  {
   "cell_type": "markdown",
   "metadata": {},
   "source": [
    "## Mittelwert ohne Probe aufnehmen\n",
    "- Beachten, dass keine Probe in der Messumgebung ist"
   ]
  },
  {
   "cell_type": "code",
   "execution_count": 10,
   "metadata": {},
   "outputs": [
    {
     "name": "stdout",
     "output_type": "stream",
     "text": [
      "Messung des Mittelwertbildes\n",
      "Vorgang:  1 von:  2\n",
      "Vorgang:  2 von:  2\n",
      "Vorgang:  2 von:  2\n"
     ]
    }
   ],
   "source": [
    "Mean = []\n",
    "Anzahl_mean = 2\n",
    "try:\n",
    "    print('Messung des Mittelwertbildes')    \n",
    "    Mean = lb.measure_data(Anzahl_mean,serialPort,M=192)#896\n",
    "except:\n",
    "    Mean = []\n",
    "    print('Bitte erneut ausführen')\n",
    "Mean = np.mean(Mean,0)"
   ]
  },
  {
   "cell_type": "code",
   "execution_count": 11,
   "metadata": {},
   "outputs": [],
   "source": [
    "# Mittelwert speichern:\n",
    "np.save(str(Messung)+'/'+'Mean_empty_ground', Mean)\n",
    "Mean = np.load(str(Messung)+'/Mean_empty_ground.npy')"
   ]
  },
  {
   "cell_type": "markdown",
   "metadata": {},
   "source": [
    "### Messung für `Anzahl` an Werten starten\n",
    "- `GRAD` ... Winkelschritte in °.\n",
    "- `grad` ... wird auf den aktuellen Drehwinkel des Drehtellers gesetzt.\n",
    "- Wenn die `Data` leer ist, wird die Iteration von `grad` neu gestartet.\n",
    "- `try` wird zur verhinderung von nicht vollständigen Messungen verwendet."
   ]
  },
  {
   "cell_type": "code",
   "execution_count": 12,
   "metadata": {},
   "outputs": [
    {
     "name": "stderr",
     "output_type": "stream",
     "text": [
      "  0%|                                                                                           | 0/25 [00:00<?, ?it/s]"
     ]
    },
    {
     "name": "stdout",
     "output_type": "stream",
     "text": [
      "Fortschritt der Winkelschritte:\n",
      "Messung des 0° Schritt\n",
      "Vorgang:  1 von:  2\n",
      "Vorgang:  2 von:  2\n",
      "Vorgang:  2 von:  2\n",
      "Messung 0 erfolgreich exportiert\n",
      "Messung des 15° Schritt\n",
      "Vorgang:  1 von:  2\n",
      "Vorgang:  2 von:  2\n",
      "Messung 15 erfolgreich exportiert\n",
      "Messung des 30° Schritt\n",
      "Vorgang:  1 von:  2\n",
      "Vorgang:  2 von:  2\n",
      "Messung 30 erfolgreich exportiert\n",
      "Messung des 45° Schritt\n",
      "Vorgang:  1 von:  2\n",
      "Vorgang:  2 von:  2\n",
      "Messung 45 erfolgreich exportiert\n",
      "Messung des 60° Schritt\n",
      "Vorgang:  1 von:  2\n",
      "Vorgang:  2 von:  2\n",
      "Messung 60 erfolgreich exportiert\n",
      "Messung des 75° Schritt\n",
      "Vorgang:  1 von:  2\n",
      "Vorgang:  2 von:  2\n",
      "Messung 75 erfolgreich exportiert\n",
      "Messung des 90° Schritt\n",
      "Vorgang:  1 von:  2\n",
      "Vorgang:  2 von:  2\n",
      "Messung 90 erfolgreich exportiert\n",
      "Messung des 105° Schritt\n",
      "Vorgang:  1 von:  2\n",
      "Vorgang:  2 von:  2\n",
      "Messung 105 erfolgreich exportiert\n",
      "Messung des 120° Schritt\n",
      "Vorgang:  1 von:  2\n",
      "Vorgang:  2 von:  2\n",
      "Messung 120 erfolgreich exportiert\n",
      "Messung des 135° Schritt\n",
      "Vorgang:  1 von:  2\n",
      "Vorgang:  2 von:  2\n",
      "Messung 135 erfolgreich exportiert\n",
      "Messung des 150° Schritt\n",
      "Vorgang:  1 von:  2\n",
      "Vorgang:  2 von:  2\n",
      "Messung 150 erfolgreich exportiert\n",
      "Messung des 165° Schritt\n",
      "Vorgang:  1 von:  2\n",
      "Vorgang:  2 von:  2\n",
      "Messung 165 erfolgreich exportiert\n",
      "Messung des 180° Schritt\n",
      "Vorgang:  1 von:  2\n",
      "Vorgang:  2 von:  2\n",
      "Messung 180 erfolgreich exportiert\n",
      "Messung des 195° Schritt\n",
      "Vorgang:  1 von:  2\n",
      "Vorgang:  2 von:  2\n",
      "Messung 195 erfolgreich exportiert\n",
      "Messung des 210° Schritt\n",
      "Vorgang:  1 von:  2\n",
      "Vorgang:  2 von:  2\n",
      "Messung 210 erfolgreich exportiert\n",
      "Messung des 225° Schritt\n",
      "Vorgang:  1 von:  2\n",
      "Vorgang:  2 von:  2\n",
      "Messung 225 erfolgreich exportiert\n",
      "Messung des 240° Schritt\n",
      "Vorgang:  1 von:  2\n",
      "Vorgang:  2 von:  2\n",
      "Messung 240 erfolgreich exportiert\n",
      "Messung des 255° Schritt\n",
      "Vorgang:  1 von:  2\n",
      "Vorgang:  2 von:  2\n",
      "Messung 255 erfolgreich exportiert\n",
      "Messung des 270° Schritt\n",
      "Vorgang:  1 von:  2\n",
      "Vorgang:  2 von:  2\n",
      "Messung 270 erfolgreich exportiert\n",
      "Messung des 285° Schritt\n",
      "Vorgang:  1 von:  2\n",
      "Vorgang:  2 von:  2\n",
      "Messung 285 erfolgreich exportiert\n",
      "Messung des 300° Schritt\n",
      "Vorgang:  1 von:  2\n",
      "Vorgang:  2 von:  2\n",
      "Messung 300 erfolgreich exportiert\n",
      "Messung des 315° Schritt\n",
      "Vorgang:  1 von:  2\n",
      "Vorgang:  2 von:  2\n",
      "Messung 315 erfolgreich exportiert\n",
      "Messung des 330° Schritt\n",
      "Vorgang:  1 von:  2\n",
      "Vorgang:  2 von:  2\n",
      "Messung 330 erfolgreich exportiert\n",
      "Messung des 345° Schritt\n",
      "Vorgang:  1 von:  2\n",
      "Vorgang:  2 von:  2\n",
      "Messung 345 erfolgreich exportiert\n",
      "Messung des 360° Schritt\n",
      "Vorgang:  1 von:  2\n",
      "Vorgang:  2 von:  2\n"
     ]
    },
    {
     "name": "stderr",
     "output_type": "stream",
     "text": [
      "  0%|                                                                                           | 0/25 [06:28<?, ?it/s]"
     ]
    },
    {
     "name": "stdout",
     "output_type": "stream",
     "text": [
      "Messung 360 erfolgreich exportiert\n"
     ]
    },
    {
     "name": "stderr",
     "output_type": "stream",
     "text": [
      "\n"
     ]
    }
   ],
   "source": [
    "print('Fortschritt der Winkelschritte:')\n",
    "pbar = tqdm(total = len(GRAD))\n",
    "check = 0\n",
    "Data = []\n",
    "while check < len(GRAD):\n",
    "    grad = GRAD[check]\n",
    "    #--- Schunk Teller auf Position drehen ---\n",
    "    mod.move_pos(grad)\n",
    "    mod.wait_until_position_reached()\n",
    "    #---\n",
    "    try:\n",
    "        print('Messung des '+ str(grad) + '° Schritt')    \n",
    "        Data = lb.measure_data(Anzahl,serialPort)\n",
    "        lb.export_xlsx(Data,Messung,Mean,grad)\n",
    "        check +=1\n",
    "    except:\n",
    "        Data = []\n",
    "        print('Neustart. Daten sind nicht vollständig...')\n",
    "pbar.close()"
   ]
  },
  {
   "cell_type": "markdown",
   "metadata": {
    "tags": []
   },
   "source": [
    "## [Rekonstruktion](Reconstruction.ipynb)"
   ]
  }
 ],
 "metadata": {
  "kernelspec": {
   "display_name": "Python 3",
   "language": "python",
   "name": "python3"
  },
  "language_info": {
   "codemirror_mode": {
    "name": "ipython",
    "version": 3
   },
   "file_extension": ".py",
   "mimetype": "text/x-python",
   "name": "python",
   "nbconvert_exporter": "python",
   "pygments_lexer": "ipython3",
   "version": "3.8.8"
  }
 },
 "nbformat": 4,
 "nbformat_minor": 4
}
